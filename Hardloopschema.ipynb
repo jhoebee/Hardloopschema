{
 "cells": [
  {
   "cell_type": "markdown",
   "id": "860d6722",
   "metadata": {},
   "source": [
    "# Hardloopschema"
   ]
  },
  {
   "cell_type": "code",
   "execution_count": 1,
   "id": "8c3d8368",
   "metadata": {},
   "outputs": [],
   "source": [
    "import pandas as pd\n",
    "import datetime as datetime\n",
    "import ipywidgets as widgets\n",
    "from ipywidgets import Button, Layout,interact,interactive, Box, VBox   \n",
    "from IPython.display import HTML\n",
    "show_schema=0"
   ]
  },
  {
   "cell_type": "code",
   "execution_count": 2,
   "id": "1ce70bcc",
   "metadata": {},
   "outputs": [],
   "source": [
    "df_running = pd.read_csv (r'https://raw.githubusercontent.com/jhoebee/Hardloopschema/main/VDOT_running_times.csv')"
   ]
  },
  {
   "cell_type": "code",
   "execution_count": 3,
   "id": "87beb5b2",
   "metadata": {},
   "outputs": [],
   "source": [
    "options_10K=list(df_running['10K'])\n",
    "options_5K=list(df_running['5K'])\n",
    "options_HM=list(df_running['Halve marathon'])\n",
    "for i in range(len(options_10K)):\n",
    "    options_10K[i]=options_10K[i][0:8]  \n",
    "    options_5K[i]=options_5K[i][0:8] \n",
    "    options_HM[i]=options_HM[i][0:8] \n",
    "df_running['10K']=options_10K\n",
    "df_running['5K']=options_5K\n",
    "df_running['Halve marathon']=options_HM"
   ]
  },
  {
   "cell_type": "code",
   "execution_count": 4,
   "id": "7ec75f66",
   "metadata": {},
   "outputs": [],
   "source": [
    "df_speed = pd.read_csv (r'https://raw.githubusercontent.com/jhoebee/Hardloopschema/main/VDOT_speed.csv')"
   ]
  },
  {
   "cell_type": "code",
   "execution_count": 5,
   "id": "5d1d19f7",
   "metadata": {},
   "outputs": [],
   "source": [
    "from datetime import date\n",
    "Options=[]\n",
    "Vandaag = date.today()\n",
    "import datetime as datetime\n",
    "Maandag = Vandaag + datetime.timedelta(days=-Vandaag.weekday(), weeks=1)\n",
    "Wedstrijd = Vandaag + datetime.timedelta(days=-Vandaag.weekday()+6, weeks=12)\n",
    "for i in [1,2,3,4,5]:\n",
    "    Optie=str(Maandag.strftime(\"%d / %m / %Y\"))\n",
    "    Options.append((Optie,Maandag))\n",
    "    Maandag=Maandag+datetime.timedelta(days=7)\n",
    "    \n",
    "Start=widgets.Dropdown(\n",
    "        options=Options,\n",
    "        description='Start',\n",
    "        description_tooltip='Maandag waarop het hardloopschema begint.',\n",
    "        layout=Layout(width='250px', height='30px'),\n",
    "        disabled=False\n",
    ")\n",
    "\n",
    "from datetime import datetime\n",
    "Wedstrijd=widgets.DatePicker(\n",
    "    description='Wedstrijd:',\n",
    "    description_tooltip='Datum waarom de wedstrijd gaat plaatsvinden.',\n",
    "    layout=Start.layout,\n",
    "    value=Wedstrijd,\n",
    "    disabled=False\n",
    ")\n",
    "\n",
    "options=['5km','10km','Halve marathon']\n",
    "Afstand=widgets.Dropdown(\n",
    "        options=options,\n",
    "        value='10km',\n",
    "        layout=Start.layout,\n",
    "        description='Afstand:',\n",
    "        description_tooltip='Afstand die je gaat lopen.',\n",
    "        disabled=False\n",
    "    )\n",
    "   \n",
    "PR5K=widgets.Dropdown(\n",
    "        options=options_5K,\n",
    "        description='PR 5km:',\n",
    "        description_tooltip='Laatst bekende PR tijd op de 5km. Minimaal 1 PR tijd moet ingevuld zijn.Voor bepaling tempo wordt de beste PR tijd gebruikt.',\n",
    "        layout=Start.layout,\n",
    "        disabled=False\n",
    "    )\n",
    "\n",
    "PR10K=widgets.Dropdown(\n",
    "        options=options_10K,\n",
    "        description='PR 10km:',\n",
    "        description_tooltip='Laatst bekende PR tijd op de 10km. Minimaal 1 PR tijd moet ingevuld zijn.Voor bepaling tempo wordt de beste PR tijd gebruikt.',\n",
    "        layout=Start.layout,\n",
    "        disabled=False\n",
    "    )\n",
    "\n",
    "PRHM=widgets.Dropdown(\n",
    "        options=options_HM,\n",
    "        layout=Start.layout,\n",
    "        description='PR Halve marathon:',\n",
    "        description_tooltip='Laatst bekende PR tijd op de halve marathon. Minimaal 1 PR tijd moet ingevuld zijn.Voor bepaling tempo wordt de beste PR tijd gebruikt.',\n",
    "        disabled=False\n",
    "    )\n",
    "\n",
    "Layout=widgets.Dropdown(\n",
    "        options=['Grijs','Blauw'],\n",
    "        layout=Start.layout,\n",
    "        value='Grijs',\n",
    "        description='Layout:',\n",
    "        description_tooltip='In welke kleur wil je het hardloopschema hebben? ',\n",
    "        disabled=False\n",
    "    )\n",
    "\n",
    "options=['Ma', 'Di', 'Wo','Do','Vr','Za','Zo']\n",
    "TrainingDagenWidget=widgets.SelectMultiple(\n",
    "    options=options,\n",
    "    value=['Ma', 'Wo','Vr','Za','Zo'],\n",
    "    description='Training:',\n",
    "    description_tooltip='Op welke dagen kun/wil je trainen. Voor het schema worden alleen deze dagen gebruikt.',\n",
    "    rows=len(options),\n",
    "    #layout=Layout(width=\"auto\"),\n",
    "    disabled=False\n",
    ")\n",
    "\n",
    "MaxHF_widget=widgets.IntSlider(\n",
    "    value=180,\n",
    "    min=160,\n",
    "    max=210,\n",
    "    step=1,\n",
    "    description='Max HF:',\n",
    "    description_tooltip='Maximale hartslag wordt gebruikt voor het bepalen van de hartslagen voor de verschillende trainingstypes.',\n",
    "    disabled=False,\n",
    "    continuous_update=False,\n",
    "    orientation='horizontal',\n",
    "    readout=True,\n",
    "    readout_format='d'\n",
    ")\n",
    "\n",
    "HuidigeKM_widget=widgets.IntSlider(\n",
    "    value=50,\n",
    "    min=20,\n",
    "    max=100,\n",
    "    step=1,\n",
    "    description='Huidige KM:',\n",
    "    description_tooltip='Hoeveel kilometer loop je per week?',\n",
    "    disabled=False,\n",
    "    continuous_update=False,\n",
    "    orientation='horizontal',\n",
    "    readout=True,\n",
    "    readout_format='d'\n",
    ")\n",
    "\n",
    "Groei=widgets.FloatSlider(\n",
    "    value=7,\n",
    "    min=0,\n",
    "    max=10,\n",
    "    step=1,\n",
    "    description='Groei %:',\n",
    "    description_tooltip='Hiermee kun je instellen met hoeveel % het week kilometrage moet toenemen. Na elke drie weken is er een week waarin het aantal kilometers minder is zodat je kan herstellen.',\n",
    "    disabled=False,\n",
    "    continuous_update=False,\n",
    "    orientation='horizontal',\n",
    "    readout=True,\n",
    "    readout_format='d'\n",
    ")"
   ]
  },
  {
   "cell_type": "code",
   "execution_count": 6,
   "id": "23108163",
   "metadata": {},
   "outputs": [
    {
     "data": {
      "application/javascript": [
       "IPython.notebook.execute_cell_range(IPython.notebook.get_selected_index()+0, IPython.notebook.ncells())"
      ],
      "text/plain": [
       "<IPython.core.display.Javascript object>"
      ]
     },
     "metadata": {},
     "output_type": "display_data"
    },
    {
     "name": "stdout",
     "output_type": "stream",
     "text": [
      "Druk op de knop 'Nieuw schema' voor het maken van een nieuw schema:\n"
     ]
    },
    {
     "data": {
      "application/vnd.jupyter.widget-view+json": {
       "model_id": "8ad4f1a6327941359e0e7b2db87ce4c0",
       "version_major": 2,
       "version_minor": 0
      },
      "text/plain": [
       "Button(description='Nieuw schema', style=ButtonStyle())"
      ]
     },
     "metadata": {},
     "output_type": "display_data"
    },
    {
     "name": "stdout",
     "output_type": "stream",
     "text": [
      "Vul hieronder de parameters in en druk op de knop 'Maak schema':\n"
     ]
    },
    {
     "data": {
      "application/vnd.jupyter.widget-view+json": {
       "model_id": "ccc2c4ac1a4442f9b247e58e3b79a61a",
       "version_major": 2,
       "version_minor": 0
      },
      "text/plain": [
       "Button(description='Maak schema', style=ButtonStyle())"
      ]
     },
     "metadata": {},
     "output_type": "display_data"
    }
   ],
   "source": [
    "from IPython.display import Javascript, display\n",
    "from ipywidgets import widgets\n",
    "\n",
    "def run_all(ev):\n",
    "    global show_schema\n",
    "    show_schema=1\n",
    "    display(Javascript('IPython.notebook.execute_cell_range(IPython.notebook.get_selected_index()+0, IPython.notebook.ncells())'))\n",
    "\n",
    "def show_parameter(ev):\n",
    "    global show_schema\n",
    "    show_schema=0\n",
    "    display(Javascript('IPython.notebook.execute_cell_range(IPython.notebook.get_selected_index()+0, IPython.notebook.ncells())'))\n",
    "\n",
    "\n",
    "button = widgets.Button(description=\"Maak schema\")\n",
    "button.on_click(run_all)\n",
    "button2 = widgets.Button(description=\"Nieuw schema\")\n",
    "button2.on_click(show_parameter)\n",
    "\n",
    "if show_schema==0:\n",
    "    print(\"Vul hieronder de parameters in en druk op de knop 'Maak schema':\")\n",
    "else:\n",
    "    print(\"Druk op de knop 'Nieuw schema' voor het maken van een nieuw schema:\")\n",
    "\n",
    "if show_schema==0:\n",
    "    display(button)\n",
    "else:\n",
    "    display(button2)"
   ]
  },
  {
   "cell_type": "code",
   "execution_count": 7,
   "id": "d6e83954",
   "metadata": {},
   "outputs": [
    {
     "data": {
      "application/vnd.jupyter.widget-view+json": {
       "model_id": "d5cce621926c4ac3ae1d4faabae023a7",
       "version_major": 2,
       "version_minor": 0
      },
      "text/plain": [
       "Dropdown(description='Start', description_tooltip='Maandag waarop het hardloopschema begint.', layout=Layout(h…"
      ]
     },
     "metadata": {},
     "output_type": "display_data"
    },
    {
     "data": {
      "application/vnd.jupyter.widget-view+json": {
       "model_id": "6ced9a5f0db9437c8e5b427a7c661912",
       "version_major": 2,
       "version_minor": 0
      },
      "text/plain": [
       "DatePicker(value=datetime.date(2022, 8, 28), description='Wedstrijd:', description_tooltip='Datum waarom de we…"
      ]
     },
     "metadata": {},
     "output_type": "display_data"
    },
    {
     "data": {
      "application/vnd.jupyter.widget-view+json": {
       "model_id": "822e0e63e87e4bd4ae4ec9a47b4f3300",
       "version_major": 2,
       "version_minor": 0
      },
      "text/plain": [
       "Dropdown(description='Afstand:', description_tooltip='Afstand die je gaat lopen.', index=1, layout=Layout(heig…"
      ]
     },
     "metadata": {},
     "output_type": "display_data"
    },
    {
     "data": {
      "application/vnd.jupyter.widget-view+json": {
       "model_id": "3e230f6329d24c26bb4a6c8eab59a270",
       "version_major": 2,
       "version_minor": 0
      },
      "text/plain": [
       "Dropdown(description='PR 5km:', description_tooltip='Laatst bekende PR tijd op de 5km. Minimaal 1 PR tijd moet…"
      ]
     },
     "metadata": {},
     "output_type": "display_data"
    },
    {
     "data": {
      "application/vnd.jupyter.widget-view+json": {
       "model_id": "341e66ce930f457c8124a97da02a0cd9",
       "version_major": 2,
       "version_minor": 0
      },
      "text/plain": [
       "Dropdown(description='PR 10km:', description_tooltip='Laatst bekende PR tijd op de 10km. Minimaal 1 PR tijd mo…"
      ]
     },
     "metadata": {},
     "output_type": "display_data"
    },
    {
     "data": {
      "application/vnd.jupyter.widget-view+json": {
       "model_id": "49d4728d716145149d5aa758c9bfbdac",
       "version_major": 2,
       "version_minor": 0
      },
      "text/plain": [
       "Dropdown(description='PR Halve marathon:', description_tooltip='Laatst bekende PR tijd op de halve marathon. M…"
      ]
     },
     "metadata": {},
     "output_type": "display_data"
    },
    {
     "data": {
      "application/vnd.jupyter.widget-view+json": {
       "model_id": "adf49ddcdeac461f9b20df667c25990f",
       "version_major": 2,
       "version_minor": 0
      },
      "text/plain": [
       "Dropdown(description='Layout:', description_tooltip='In welke kleur wil je het hardloopschema hebben? ', layou…"
      ]
     },
     "metadata": {},
     "output_type": "display_data"
    },
    {
     "data": {
      "application/vnd.jupyter.widget-view+json": {
       "model_id": "9bfe71941f904eed95f821f875faf71e",
       "version_major": 2,
       "version_minor": 0
      },
      "text/plain": [
       "SelectMultiple(description='Training:', description_tooltip='Op welke dagen kun/wil je trainen. Voor het schem…"
      ]
     },
     "metadata": {},
     "output_type": "display_data"
    },
    {
     "data": {
      "application/vnd.jupyter.widget-view+json": {
       "model_id": "ea4609b0bf724a22ab657cdf7a1a6040",
       "version_major": 2,
       "version_minor": 0
      },
      "text/plain": [
       "IntSlider(value=180, continuous_update=False, description='Max HF:', description_tooltip='Maximale hartslag wo…"
      ]
     },
     "metadata": {},
     "output_type": "display_data"
    },
    {
     "data": {
      "application/vnd.jupyter.widget-view+json": {
       "model_id": "0515f487705a4be99f0f6c9f201535cf",
       "version_major": 2,
       "version_minor": 0
      },
      "text/plain": [
       "IntSlider(value=50, continuous_update=False, description='Huidige KM:', description_tooltip='Hoeveel kilometer…"
      ]
     },
     "metadata": {},
     "output_type": "display_data"
    },
    {
     "data": {
      "application/vnd.jupyter.widget-view+json": {
       "model_id": "ee30605b14804bcbb1114020317de513",
       "version_major": 2,
       "version_minor": 0
      },
      "text/plain": [
       "FloatSlider(value=7.0, continuous_update=False, description='Groei %:', description_tooltip='Hiermee kun je in…"
      ]
     },
     "metadata": {},
     "output_type": "display_data"
    }
   ],
   "source": [
    "if show_schema==0:\n",
    "    display(Start)\n",
    "    display(Wedstrijd)\n",
    "    display(Afstand)\n",
    "    display(PR5K)\n",
    "    display(PR10K)\n",
    "    display(PRHM)\n",
    "    display(Layout)\n",
    "    display(TrainingDagenWidget)\n",
    "    display(MaxHF_widget)\n",
    "    display(HuidigeKM_widget)\n",
    "    display(Groei)"
   ]
  },
  {
   "cell_type": "code",
   "execution_count": 8,
   "id": "4ddb98bc",
   "metadata": {},
   "outputs": [],
   "source": [
    "VDOT_5K=int(df_running[df_running['5K']==PR5K.value].VDOT)\n",
    "VDOT_10K=int(df_running[df_running['10K']==PR10K.value].VDOT)\n",
    "VDOT_HM=int(df_running[df_running['Halve marathon']==PRHM.value].VDOT)\n",
    "VDOT=max(VDOT_5K,VDOT_10K,VDOT_HM)\n",
    "\n",
    "data={'TrainingType':['L','E','T','I','R']\n",
    "      ,'Omschrijving':['Lange duurloop','Easy running','Tempoloop','Interval','Repetitions']\n",
    "     ,'Tempo':['','','','','']\n",
    "     ,'Hartslag':['120-135','125-140','145-160','158-166','n.v.t.']\n",
    "     ,'MaxPerc':['0.25','1.0','0.10','0.08','0.05']}\n",
    "df=pd.DataFrame(data=data)\n",
    "df.MaxPerc=df.MaxPerc.astype(float)\n",
    "#tempo\n",
    "df.at[0,'Tempo']=list(df_speed[df_speed['VDOT']==VDOT].L)[0]\n",
    "df.at[1,'Tempo']=list(df_speed[df_speed['VDOT']==VDOT].E)[0]\n",
    "df.at[2,'Tempo']=list(df_speed[df_speed['VDOT']==VDOT]['T'])[0][4:8]\n",
    "df.at[3,'Tempo']=list(df_speed[df_speed['VDOT']==VDOT]['I'])[0][4:8]\n",
    "df.at[4,'Tempo']=list(df_speed[df_speed['VDOT']==VDOT]['R'])[0][4:8]\n",
    "#hartslag\n",
    "df.at[0,'Hartslag']=str(int(0.65*int(MaxHF_widget.value)))+'-'+str(int(0.79*int(MaxHF_widget.value)))\n",
    "df.at[1,'Hartslag']=str(int(0.65*int(MaxHF_widget.value)))+'-'+str(int(0.79*int(MaxHF_widget.value)))\n",
    "df.at[2,'Hartslag']=str(int(0.88*int(MaxHF_widget.value)))+'-'+str(int(0.92*int(MaxHF_widget.value)))\n",
    "df.at[3,'Hartslag']=str(int(0.88*int(MaxHF_widget.value)))+'-'+str(int(0.92*int(MaxHF_widget.value)))\n",
    "df3=df[['TrainingType','Omschrijving','Tempo','Hartslag']].style.hide_index()"
   ]
  },
  {
   "cell_type": "code",
   "execution_count": 9,
   "id": "283c797e",
   "metadata": {},
   "outputs": [],
   "source": [
    "#from IPython.core.display import HTML, display\n",
    "#g=HTML('<img src= marathon_sydney.jpg alt= stackoverflow.com width=104 height=142>')"
   ]
  },
  {
   "cell_type": "code",
   "execution_count": 10,
   "id": "54cb6eb0",
   "metadata": {},
   "outputs": [],
   "source": [
    "#display_html(df1_styler._repr_html_()+SoftLinked._repr_html_(), raw=True)\n",
    "#display_html(SoftLinked._repr_html_()+df1._repr_html_(), raw=True)"
   ]
  },
  {
   "cell_type": "code",
   "execution_count": 11,
   "id": "d6bd00c5",
   "metadata": {},
   "outputs": [],
   "source": [
    "#from IPython.display import Image\n",
    "#from IPython import HTML, display\n",
    "\n",
    "#SoftLinked = Image(url='https://raw.githubusercontent.com/jhoebee/Hardloopschema/main/daniel_running_formula.jpg')\n",
    "df5=df[['TrainingType','Omschrijving','Tempo','Hartslag']]\n",
    "df1 = df5\n",
    "df1_styler = df1.style.set_table_attributes(\"style='display:inline'\").hide_index()\n",
    "image_path1=df1_styler._repr_html_()\n",
    "html=HTML(f\"\"\"\n",
    "<table>\n",
    "    <tr style=\"background-color:transparant\">\n",
    "        <td style=\"background-color:transparant\"><img src={image_path1}></td>\n",
    "        <td style=\"background-color:transparant\"><img src='' width=\"100\"></td>\n",
    "        <td><img src='https://raw.githubusercontent.com/jhoebee/Hardloopschema/main/daniel_running_formula.jpg'></td>\n",
    "    </tr>\n",
    "</table>\n",
    "\"\"\")\n",
    "if show_schema==1:\n",
    "    display(html)"
   ]
  },
  {
   "cell_type": "code",
   "execution_count": 12,
   "id": "fb0cd413",
   "metadata": {},
   "outputs": [],
   "source": [
    "#display_html(df1_styler._repr_html_(), raw=True)"
   ]
  },
  {
   "cell_type": "code",
   "execution_count": 13,
   "id": "69d2e04a",
   "metadata": {},
   "outputs": [],
   "source": [
    "import datetime as datetime\n",
    "Wedstrijd_date=Wedstrijd.value\n",
    "n_dagen=Wedstrijd_date-Start.value\n",
    "n_weken=int(round(n_dagen.days/7.0,0))\n",
    "n=n_weken\n",
    "Datum=['']*n\n",
    "Week=[]\n",
    "Rust=['Rust']*n\n",
    "TotaalKM=['0']*n\n",
    "for i in range(1, n+1):\n",
    "    Week.append(str(i).zfill(1))\n",
    "\n",
    "Groei_float=Groei.value/100.0\n",
    "Groei_list=[]\n",
    "j=0\n",
    "for i in Week:\n",
    "    if j==3:\n",
    "        Groei_list.append(1-Groei_float)\n",
    "        j=0\n",
    "    else:\n",
    "        Groei_list.append(1+Groei_float)\n",
    "        j=j+1\n",
    "\n",
    "data={\n",
    "    'Week':Week\n",
    "    ,'Groei':Groei_list\n",
    "}\n",
    "df_groei=pd.DataFrame(data=data)\n",
    "df_groei.at[n-1,'Groei']=0.5   \n",
    "\n",
    "\n",
    "data2={\n",
    "    'Datum':Datum\n",
    "    ,'Week':Week\n",
    "    ,'Ma':Rust\n",
    "      ,'Di':Rust\n",
    "     ,'Wo':Rust\n",
    "     ,'Do':Rust\n",
    "     ,'Vr':Rust\n",
    "     ,'Za':Rust\n",
    "     ,'Zo':Rust\n",
    "       ,'TotaalKM':TotaalKM}\n",
    "df2=pd.DataFrame(data=data2)"
   ]
  },
  {
   "cell_type": "code",
   "execution_count": 14,
   "id": "f4737020",
   "metadata": {},
   "outputs": [],
   "source": [
    "Dagen_vd_week=['Ma', 'Di', 'Wo','Do','Vr','Za','Zo']\n",
    "TrainingDagen=TrainingDagenWidget.value\n",
    "n_TrainingDagen=len(TrainingDagen)\n",
    "QualityOneven=[]\n",
    "QualityEven=[]\n",
    "for i in range(7):\n",
    "    if TrainingDagen[0]==Dagen_vd_week[i]:\n",
    "        QualityOneven.append(TrainingDagen[0])\n",
    "        QualityEven.append(TrainingDagen[0])\n",
    "for k in range(1,n_TrainingDagen):\n",
    "    for i in range(7):\n",
    "        if TrainingDagen[k]==Dagen_vd_week[i] and QualityOneven[len(QualityOneven)-1]!=Dagen_vd_week[i-1]: \n",
    "            if TrainingDagen[0]!='Ma' or TrainingDagen[k]!='Zo':\n",
    "                QualityOneven.append(TrainingDagen[k])\n",
    "                QualityEven.append(TrainingDagen[k])\n",
    "if (Afstand.value=='Halve marathon' or Afstand.value=='Marathon') and len(QualityOneven)==4:\n",
    "    TrainingTypeOneven=['T','I','T','L']\n",
    "    TrainingTypeEven=['T','I','T','L']\n",
    "    QualityLaatste=QualityEven[0:2]\n",
    "    TrainingTypeLaatste=TrainingTypeEven[0:2]\n",
    "if (Afstand.value=='Halve marathon' or Afstand.value=='Marathon')  and len(QualityOneven)==3:\n",
    "    TrainingTypeOneven=['T','I','L']\n",
    "    TrainingTypeEven=['T','I','L']\n",
    "    QualityLaatste=QualityEven[0:2]\n",
    "    TrainingTypeLaatste=TrainingTypeEven[0:2]\n",
    "if Afstand.value=='10km' and len(QualityOneven)==3:\n",
    "    TrainingTypeOneven=['T','I','R']\n",
    "    TrainingTypeEven=['T','I','L']\n",
    "    QualityLaatste=QualityEven[0:2]\n",
    "    TrainingTypeLaatste=TrainingTypeEven[0:2]\n",
    "if Afstand.value=='10km' and len(QualityOneven)==2:\n",
    "    TrainingTypeOneven=['T','I']\n",
    "    TrainingTypeEven=['T','R']\n",
    "    QualityLaatste=QualityEven[0:2]\n",
    "    TrainingTypeLaatste=TrainingTypeEven[0:2]\n",
    "if Afstand.value=='5km' and len(QualityOneven)==2:\n",
    "    TrainingTypeOneven=['T','R']\n",
    "    TrainingTypeEven=['I','T']\n",
    "    QualityLaatste=QualityEven[0:2]\n",
    "    TrainingTypeLaatste=TrainingTypeEven[0:2]\n",
    "if Afstand.value=='5km' and len(QualityOneven)==3:\n",
    "    TrainingTypeOneven=['T','I','R']\n",
    "    TrainingTypeEven=['T','I','R']\n",
    "    QualityLaatste=QualityEven[0:2]\n",
    "    TrainingTypeLaatste=TrainingTypeEven[0:2]\n",
    "if Afstand.value=='5km' and len(QualityOneven)==4:\n",
    "    TrainingTypeOneven=['T','I','R','T']\n",
    "    TrainingTypeEven=['I','R','T','I']\n",
    "    QualityLaatste=QualityEven[0:2]\n",
    "    TrainingTypeLaatste=TrainingTypeEven[0:2]"
   ]
  },
  {
   "cell_type": "code",
   "execution_count": 15,
   "id": "27492bd3",
   "metadata": {},
   "outputs": [],
   "source": [
    "StartMaandag = Start.value\n",
    "Week=df_groei.Week\n",
    "m=0\n",
    "HuidigeKM=float(HuidigeKM_widget.value)\n",
    "for w in Week:\n",
    "    num=int(w)\n",
    "    if num==n_weken:\n",
    "        TrainingType=TrainingTypeLaatste\n",
    "        Quality=QualityLaatste\n",
    "    elif num % 2 != 0:\n",
    "        TrainingType=TrainingTypeOneven\n",
    "        Quality=QualityOneven\n",
    "    else:\n",
    "        TrainingType=TrainingTypeEven\n",
    "        Quality=QualityEven\n",
    "    Groei_float=float(df_groei[df_groei.Week==Week[m]].Groei.values[0])\n",
    "    HuidigeKM=HuidigeKM*Groei_float\n",
    "    df['MaxKM']=HuidigeKM*df.MaxPerc\n",
    "    AantalKM_L=int(round(df[df['TrainingType']=='L'].MaxKM))*TrainingType.count('L')\n",
    "    AantalKM_per_TrainingDay=(HuidigeKM-AantalKM_L)/(n_TrainingDagen-TrainingType.count('L'))\n",
    "    df['MaxKM']=df['MaxKM'].round(1)\n",
    "    TotaalKM=0\n",
    "    n=0\n",
    "    KM=0\n",
    "    for i in Quality:\n",
    "        TrainingTypeHuidig=TrainingType[n]\n",
    "        TrainingTypeHuidig=TrainingTypeHuidig[0]\n",
    "        MaxKMHuidig=df[df['TrainingType']==TrainingType[n]].MaxKM\n",
    "        if num==n_weken:\n",
    "            MaxKMHuidig=MaxKMHuidig/2.0\n",
    "        if TrainingTypeHuidig=='L':\n",
    "            AantalInt=int(round(MaxKMHuidig))\n",
    "            Aantal=str(AantalInt)\n",
    "            Text =  Aantal +TrainingTypeHuidig\n",
    "            KM=KM+AantalInt\n",
    "        elif TrainingTypeHuidig=='T':\n",
    "            AantalWarmUp=2\n",
    "            AantalInt=int(round(MaxKMHuidig/1.6))\n",
    "            Aantal=str(AantalInt)\n",
    "            AantalKM=4+AantalInt*1.6\n",
    "            if AantalKM < AantalKM_per_TrainingDay:\n",
    "                Aantal_E=int(round(AantalKM_per_TrainingDay-AantalKM))\n",
    "                AantalKM=4+AantalInt*1.6+Aantal_E\n",
    "                AantalWarmUp=2+Aantal_E\n",
    "            else:\n",
    "                AantalKM=4+AantalInt*1.6\n",
    "            Text = str(AantalWarmUp)+\"E + \"+ Aantal +\"x1,6 T 1min rust\"+\" + 2E (\"+str(int(round(AantalKM)))+\"KM)\"\n",
    "            KM=KM+AantalKM\n",
    "        elif TrainingTypeHuidig=='R': \n",
    "            AantalWarmUp=2\n",
    "            AantalInt=int(round(MaxKMHuidig/0.4))\n",
    "            Aantal=str(AantalInt)\n",
    "            AantalKM=4+AantalInt*0.4\n",
    "            if AantalKM < AantalKM_per_TrainingDay:\n",
    "                Aantal_E=int(round(AantalKM_per_TrainingDay-AantalKM))\n",
    "                AantalKM=4+AantalInt*0.4+Aantal_E\n",
    "                AantalWarmUp=2+Aantal_E\n",
    "            else:\n",
    "                AantalKM=4+AantalInt*0.4\n",
    "            Text = str(AantalWarmUp)+\"E + \"+ Aantal +\"x400m R 400m rust\"+\" + 2E (\"+str(int(round(AantalKM)))+\"KM)\"\n",
    "            KM=KM+AantalKM\n",
    "        else:\n",
    "            AantalInt=int(round(MaxKMHuidig/1.0))\n",
    "            Aantal=str(AantalInt)\n",
    "            AantalKM=4+AantalInt\n",
    "            if AantalKM < AantalKM_per_TrainingDay:\n",
    "                Aantal_E=int(round(AantalKM_per_TrainingDay-AantalKM))\n",
    "                AantalKM=4+AantalInt+Aantal_E\n",
    "                AantalWarmUp=2+Aantal_E\n",
    "            else:\n",
    "                AantalKM=4+AantalInt\n",
    "            Text = str(AantalWarmUp)+\"E + \"+ Aantal +\"x1 I 3min rust\"+ \" + 2E (\"+str(int(round(AantalKM)))+\"KM)\"\n",
    "            KM=KM+AantalKM\n",
    "        df2.at[m,Quality[n]]=Text\n",
    "        n=n+1\n",
    "    TotaalKM=TotaalKM+KM\n",
    "    Toewijzen=HuidigeKM-KM\n",
    "    E_dagen=set(TrainingDagen)-set(Quality)\n",
    "    E_dagen=list(E_dagen)\n",
    "    Aantal_E_dagen=len(E_dagen)\n",
    "    KM_E=0\n",
    "    if Aantal_E_dagen>0:\n",
    "        Toewijzen=Toewijzen/Aantal_E_dagen\n",
    "        Toewijzen=int(Toewijzen)\n",
    "        l=0\n",
    "        for i in E_dagen:\n",
    "            KM_E=KM_E+Toewijzen\n",
    "            Text = str(Toewijzen)+\"E\"\n",
    "            df2.at[m,E_dagen[l]]=Text\n",
    "            l=l+1\n",
    "    TotaalKM=TotaalKM+KM_E\n",
    "    df2.at[m,'TotaalKM']=round(TotaalKM)\n",
    "    df2.at[m,'Datum']=StartMaandag.strftime('%Y-%m-%d')\n",
    "    StartMaandag=StartMaandag+datetime.timedelta(days=7)\n",
    "    m=m+1\n",
    "if Wedstrijd_date.weekday()+1==7:\n",
    "    df2.at[n_weken-1,'Za']=df2.at[n_weken-1,'Za']+' + 4x100m sprint'\n",
    "    df2.at[n_weken-1,'Zo']='Wedstrijd'"
   ]
  },
  {
   "cell_type": "code",
   "execution_count": 16,
   "id": "411ec2c0",
   "metadata": {},
   "outputs": [],
   "source": [
    "s1=df2.style.set_properties(**{'background-color': 'blue',\n",
    "                               'border': '1.3px black',\n",
    "                          'color': 'black',\n",
    "                           'text-align': 'center'})\n",
    "s2 = s1.set_table_styles([\n",
    "                            {\n",
    "                                \"selector\":\"thead\",\n",
    "                                \"props\": [(\"background-color\", \"dodgerblue\"), (\"color\", \"white\"),\n",
    "                                          (\"border\", \"1px white\"),\n",
    "                                          (\"font-size\", \"2rem\"), (\"font-style\", \"italic\")\n",
    "                                         ]\n",
    "                            },\n",
    "                            {\n",
    "                                \"selector\":\"th.row_heading\",\n",
    "                                \"props\": [(\"background-color\", \"blue\"), (\"color\", \"bold black\"),\n",
    "                                          (\"border\", \"1px white\"),\n",
    "                                          (\"font-size\", \"2rem\"), (\"font-style\", \"italic\")\n",
    "                                         ]\n",
    "                            },\n",
    "                            {\n",
    "                                \"selector\":\"th.column_heading\",\n",
    "                                \"props\": [('text-align', 'center')\n",
    "                                         ]\n",
    "                            },\n",
    "                        ])"
   ]
  },
  {
   "cell_type": "code",
   "execution_count": 17,
   "id": "aee795d3",
   "metadata": {},
   "outputs": [],
   "source": [
    "if Layout.value=='Grijs' and show_schema==1:\n",
    "    display(df2.style.hide_index())\n",
    "if Layout.value=='Blauw' and show_schema==1:\n",
    "    display(s2.hide_index())"
   ]
  },
  {
   "cell_type": "code",
   "execution_count": 18,
   "id": "9b788851",
   "metadata": {},
   "outputs": [],
   "source": [
    "import dataframe_image as dfi\n",
    "\n",
    "def export_all(ev):\n",
    "    dfi.export(df2.style.hide_index(),'Hardloopschema.png')\n",
    "\n",
    "button = widgets.Button(description=\"Export\")\n",
    "button.on_click(export_all)\n",
    "#display(button)"
   ]
  }
 ],
 "metadata": {
  "kernelspec": {
   "display_name": "Python 3 (ipykernel)",
   "language": "python",
   "name": "python3"
  },
  "language_info": {
   "codemirror_mode": {
    "name": "ipython",
    "version": 3
   },
   "file_extension": ".py",
   "mimetype": "text/x-python",
   "name": "python",
   "nbconvert_exporter": "python",
   "pygments_lexer": "ipython3",
   "version": "3.9.7"
  }
 },
 "nbformat": 4,
 "nbformat_minor": 5
}
