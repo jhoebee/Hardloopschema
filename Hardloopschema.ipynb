{
 "cells": [
  {
   "cell_type": "code",
   "execution_count": 1,
   "id": "2f81432e",
   "metadata": {},
   "outputs": [],
   "source": [
    "#from IPython.display import Image\n",
    "#Image(filename='marathon_sydney.jpg') "
   ]
  },
  {
   "cell_type": "markdown",
   "id": "3c65d9bd",
   "metadata": {},
   "source": [
    "![label](./marathon_sydney.jpg) "
   ]
  },
  {
   "cell_type": "markdown",
   "id": "860d6722",
   "metadata": {},
   "source": [
    "# Hardloopschema"
   ]
  },
  {
   "cell_type": "markdown",
   "id": "b6074c3f",
   "metadata": {},
   "source": [
    "Vul hieronder de parameters in en druk op de knop ververs.\n",
    "<br>\n",
    "- **Start:** Maandag waarop het hardloopschema begint.\n",
    "<br>\n",
    "- **Wedstrijd:** Datum waarom de wedstrijd gaat plaatsvinden.\n",
    "<br>\n",
    "- **Afstand:** Afstand die je gaat lopen.\n",
    "<br>\n",
    "- **Training:** Op welke dagen kun/wil je trainen.\n",
    "<br>\n",
    "- **Huidige KM:** Hoeveel kilometer loop je per week?\n",
    "<br>\n",
    "- **Groei %:** Hiermee kun je instellen met hoeveel % het week kilometrage moet toenemen. Na elke drie weken is er een week\n",
    "<br>\n",
    "waarin het aantal kilometers minder is zodat je kan herstellen.\n",
    "<br>\n",
    "- **Layout:** In welke kleur wil je het hardloopschema hebben? "
   ]
  },
  {
   "cell_type": "code",
   "execution_count": 2,
   "id": "8c3d8368",
   "metadata": {},
   "outputs": [],
   "source": [
    "import pandas as pd\n",
    "import datetime as datetime\n",
    "import ipywidgets as widgets\n",
    "from ipywidgets import Button, Layout,interact,interactive, Box, VBox"
   ]
  },
  {
   "cell_type": "code",
   "execution_count": 3,
   "id": "5d1d19f7",
   "metadata": {},
   "outputs": [
    {
     "data": {
      "application/vnd.jupyter.widget-view+json": {
       "model_id": "4d65a7ff1b0c44c59fad2a86caa258ad",
       "version_major": 2,
       "version_minor": 0
      },
      "text/plain": [
       "Dropdown(description='Start', options=(('30/05/2022', datetime.date(2022, 5, 30)), ('06/06/2022', datetime.dat…"
      ]
     },
     "metadata": {},
     "output_type": "display_data"
    },
    {
     "data": {
      "application/vnd.jupyter.widget-view+json": {
       "model_id": "787e217951fc406eba415e65f3b0243d",
       "version_major": 2,
       "version_minor": 0
      },
      "text/plain": [
       "DatePicker(value=datetime.date(2022, 6, 12), description='Wedstrijd:')"
      ]
     },
     "metadata": {},
     "output_type": "display_data"
    },
    {
     "data": {
      "application/vnd.jupyter.widget-view+json": {
       "model_id": "e36a8edbc4cc4b1c9c9c1b53fee94bd5",
       "version_major": 2,
       "version_minor": 0
      },
      "text/plain": [
       "Dropdown(description='Afstand:', index=1, options=('5km', '10km', 'Halve marathon', 'Marathon'), value='10km')"
      ]
     },
     "metadata": {},
     "output_type": "display_data"
    },
    {
     "data": {
      "application/vnd.jupyter.widget-view+json": {
       "model_id": "e34eaf4cd40b4c668becb9994e3efb93",
       "version_major": 2,
       "version_minor": 0
      },
      "text/plain": [
       "SelectMultiple(description='Training:', index=(0, 2, 4, 5, 6), options=('Ma', 'Di', 'Wo', 'Do', 'Vr', 'Za', 'Z…"
      ]
     },
     "metadata": {},
     "output_type": "display_data"
    },
    {
     "data": {
      "application/vnd.jupyter.widget-view+json": {
       "model_id": "9e156dc310b248078e5e9ee53ac0b57d",
       "version_major": 2,
       "version_minor": 0
      },
      "text/plain": [
       "IntSlider(value=50, continuous_update=False, description='Huidige KM:', min=20)"
      ]
     },
     "metadata": {},
     "output_type": "display_data"
    },
    {
     "data": {
      "application/vnd.jupyter.widget-view+json": {
       "model_id": "84a7668a195d4acc8445d7dd7fd4e70e",
       "version_major": 2,
       "version_minor": 0
      },
      "text/plain": [
       "FloatSlider(value=7.0, continuous_update=False, description='Groei %:', max=10.0, readout_format='d', step=1.0…"
      ]
     },
     "metadata": {},
     "output_type": "display_data"
    },
    {
     "data": {
      "application/vnd.jupyter.widget-view+json": {
       "model_id": "4d6b86c26d8d402b80a9d497d2c9916f",
       "version_major": 2,
       "version_minor": 0
      },
      "text/plain": [
       "Dropdown(description='Layout:', options=('Grijs', 'Blauw'), value='Grijs')"
      ]
     },
     "metadata": {},
     "output_type": "display_data"
    }
   ],
   "source": [
    "from datetime import date\n",
    "Options=[]\n",
    "Vandaag = date.today()\n",
    "import datetime as datetime\n",
    "Maandag = Vandaag + datetime.timedelta(days=-Vandaag.weekday(), weeks=1)\n",
    "for i in [1,2,3,4,5]:\n",
    "    Optie=str(Maandag.strftime(\"%d/%m/%Y\"))\n",
    "    Options.append((Optie,Maandag))\n",
    "    Maandag=Maandag+datetime.timedelta(days=7)\n",
    "    \n",
    "Start=widgets.Dropdown(\n",
    "        options=Options,\n",
    "        description='Start',\n",
    "        disabled=False\n",
    "    )\n",
    "display(Start)\n",
    "\n",
    "from datetime import datetime\n",
    "Wedstrijd=widgets.DatePicker(\n",
    "    description='Wedstrijd:',\n",
    "    value=datetime.strptime('12/06/2022', '%d/%m/%Y').date(),\n",
    "    disabled=False\n",
    ")\n",
    "display(Wedstrijd)\n",
    "\n",
    "options=['5km','10km','Halve marathon','Marathon']\n",
    "Afstand=widgets.Dropdown(\n",
    "        options=options,\n",
    "        value='10km',\n",
    "        description='Afstand:',\n",
    "        disabled=False\n",
    "    )\n",
    "display(Afstand)\n",
    "\n",
    "options=['Ma', 'Di', 'Wo','Do','Vr','Za','Zo']\n",
    "TrainingDagenWidget=widgets.SelectMultiple(\n",
    "    options=options,\n",
    "    value=['Ma', 'Wo','Vr','Za','Zo'],\n",
    "    description='Training:',\n",
    "    rows=len(options),\n",
    "    disabled=False\n",
    ")\n",
    "display(TrainingDagenWidget)\n",
    "\n",
    "HuidigeKM_widget=widgets.IntSlider(\n",
    "    value=50,\n",
    "    min=20,\n",
    "    max=100,\n",
    "    step=1,\n",
    "    description='Huidige KM:',\n",
    "    disabled=False,\n",
    "    continuous_update=False,\n",
    "    orientation='horizontal',\n",
    "    readout=True,\n",
    "    readout_format='d'\n",
    ")\n",
    "display(HuidigeKM_widget)\n",
    "\n",
    "Groei=widgets.FloatSlider(\n",
    "    value=7,\n",
    "    min=0,\n",
    "    max=10,\n",
    "    step=1,\n",
    "    description='Groei %:',\n",
    "    disabled=False,\n",
    "    continuous_update=False,\n",
    "    orientation='horizontal',\n",
    "    readout=True,\n",
    "    readout_format='d'\n",
    ")\n",
    "display(Groei)\n",
    "\n",
    "Layout=widgets.Dropdown(\n",
    "        options=['Grijs','Blauw'],\n",
    "        value='Grijs',\n",
    "        description='Layout:',\n",
    "        disabled=False\n",
    "    )\n",
    "display(Layout)"
   ]
  },
  {
   "cell_type": "code",
   "execution_count": 4,
   "id": "23108163",
   "metadata": {},
   "outputs": [
    {
     "data": {
      "application/vnd.jupyter.widget-view+json": {
       "model_id": "dd5a8d2763fe4579a6fd74b4f87aad24",
       "version_major": 2,
       "version_minor": 0
      },
      "text/plain": [
       "Button(description='Ververs', style=ButtonStyle())"
      ]
     },
     "metadata": {},
     "output_type": "display_data"
    }
   ],
   "source": [
    "from IPython.display import Javascript, display\n",
    "from ipywidgets import widgets\n",
    "\n",
    "def run_all(ev):\n",
    "    display(Javascript('IPython.notebook.execute_cell_range(IPython.notebook.get_selected_index()+1, IPython.notebook.ncells())'))\n",
    "\n",
    "button = widgets.Button(description=\"Ververs\")\n",
    "button.on_click(run_all)\n",
    "display(button)"
   ]
  },
  {
   "cell_type": "code",
   "execution_count": 5,
   "id": "4ddb98bc",
   "metadata": {},
   "outputs": [
    {
     "data": {
      "text/html": [
       "<style type=\"text/css\">\n",
       "</style>\n",
       "<table id=\"T_1cb9b_\">\n",
       "  <thead>\n",
       "    <tr>\n",
       "      <th class=\"col_heading level0 col0\" >TrainingType</th>\n",
       "      <th class=\"col_heading level0 col1\" >Omschrijving</th>\n",
       "      <th class=\"col_heading level0 col2\" >Tempo</th>\n",
       "      <th class=\"col_heading level0 col3\" >Hartslag</th>\n",
       "    </tr>\n",
       "  </thead>\n",
       "  <tbody>\n",
       "    <tr>\n",
       "      <td id=\"T_1cb9b_row0_col0\" class=\"data row0 col0\" >L</td>\n",
       "      <td id=\"T_1cb9b_row0_col1\" class=\"data row0 col1\" >Lange duurloop</td>\n",
       "      <td id=\"T_1cb9b_row0_col2\" class=\"data row0 col2\" >5:19</td>\n",
       "      <td id=\"T_1cb9b_row0_col3\" class=\"data row0 col3\" >120-135</td>\n",
       "    </tr>\n",
       "    <tr>\n",
       "      <td id=\"T_1cb9b_row1_col0\" class=\"data row1 col0\" >E</td>\n",
       "      <td id=\"T_1cb9b_row1_col1\" class=\"data row1 col1\" >Easy running</td>\n",
       "      <td id=\"T_1cb9b_row1_col2\" class=\"data row1 col2\" >4:43</td>\n",
       "      <td id=\"T_1cb9b_row1_col3\" class=\"data row1 col3\" >125-140</td>\n",
       "    </tr>\n",
       "    <tr>\n",
       "      <td id=\"T_1cb9b_row2_col0\" class=\"data row2 col0\" >T</td>\n",
       "      <td id=\"T_1cb9b_row2_col1\" class=\"data row2 col1\" >Tempoloop</td>\n",
       "      <td id=\"T_1cb9b_row2_col2\" class=\"data row2 col2\" >4:04</td>\n",
       "      <td id=\"T_1cb9b_row2_col3\" class=\"data row2 col3\" >145-160</td>\n",
       "    </tr>\n",
       "    <tr>\n",
       "      <td id=\"T_1cb9b_row3_col0\" class=\"data row3 col0\" >I</td>\n",
       "      <td id=\"T_1cb9b_row3_col1\" class=\"data row3 col1\" >Interval</td>\n",
       "      <td id=\"T_1cb9b_row3_col2\" class=\"data row3 col2\" >3:44</td>\n",
       "      <td id=\"T_1cb9b_row3_col3\" class=\"data row3 col3\" >158-166</td>\n",
       "    </tr>\n",
       "    <tr>\n",
       "      <td id=\"T_1cb9b_row4_col0\" class=\"data row4 col0\" >R</td>\n",
       "      <td id=\"T_1cb9b_row4_col1\" class=\"data row4 col1\" >Repetitions</td>\n",
       "      <td id=\"T_1cb9b_row4_col2\" class=\"data row4 col2\" >3:30</td>\n",
       "      <td id=\"T_1cb9b_row4_col3\" class=\"data row4 col3\" >n.v.t.</td>\n",
       "    </tr>\n",
       "  </tbody>\n",
       "</table>\n"
      ],
      "text/plain": [
       "<pandas.io.formats.style.Styler at 0x1976cdfbf40>"
      ]
     },
     "execution_count": 5,
     "metadata": {},
     "output_type": "execute_result"
    }
   ],
   "source": [
    "data={'TrainingType':['L','E','T','I','R']\n",
    "      ,'Omschrijving':['Lange duurloop','Easy running','Tempoloop','Interval','Repetitions']\n",
    "     ,'Tempo':['5:19','4:43','4:04','3:44','3:30']\n",
    "     ,'Hartslag':['120-135','125-140','145-160','158-166','n.v.t.']\n",
    "     ,'MaxPerc':['0.25','1.0','0.10','0.08','0.05']}\n",
    "df=pd.DataFrame(data=data)\n",
    "df.MaxPerc=df.MaxPerc.astype(float)\n",
    "df[['TrainingType','Omschrijving','Tempo','Hartslag']].style.hide_index()"
   ]
  },
  {
   "cell_type": "code",
   "execution_count": 6,
   "id": "69d2e04a",
   "metadata": {},
   "outputs": [],
   "source": [
    "import datetime as datetime\n",
    "Wedstrijd_date=Wedstrijd.value\n",
    "n_dagen=Wedstrijd_date-Start.value\n",
    "n_weken=int(round(n_dagen.days/7.0,0))\n",
    "n=n_weken\n",
    "Datum=['']*n\n",
    "Week=[]\n",
    "Rust=['Rust']*n\n",
    "TotaalKM=['0']*n\n",
    "for i in range(1, n+1):\n",
    "    Week.append(str(i).zfill(1))\n",
    "\n",
    "Groei_float=Groei.value/100.0\n",
    "Groei_list=[]\n",
    "j=0\n",
    "for i in Week:\n",
    "    if j==3:\n",
    "        Groei_list.append(1-Groei_float)\n",
    "        j=0\n",
    "    else:\n",
    "        Groei_list.append(1+Groei_float)\n",
    "        j=j+1\n",
    "\n",
    "data={\n",
    "    'Week':Week\n",
    "    ,'Groei':Groei_list\n",
    "}\n",
    "df_groei=pd.DataFrame(data=data)\n",
    "df_groei.at[n-1,'Groei']=0.5   \n",
    "\n",
    "\n",
    "data2={\n",
    "    'Datum':Datum\n",
    "    ,'Week':Week\n",
    "    ,'Ma':Rust\n",
    "      ,'Di':Rust\n",
    "     ,'Wo':Rust\n",
    "     ,'Do':Rust\n",
    "     ,'Vr':Rust\n",
    "     ,'Za':Rust\n",
    "     ,'Zo':Rust\n",
    "       ,'TotaalKM':TotaalKM}\n",
    "df2=pd.DataFrame(data=data2)"
   ]
  },
  {
   "cell_type": "code",
   "execution_count": 7,
   "id": "f4737020",
   "metadata": {},
   "outputs": [],
   "source": [
    "Dagen_vd_week=['Ma', 'Di', 'Wo','Do','Vr','Za','Zo']\n",
    "TrainingDagen=TrainingDagenWidget.value\n",
    "n_TrainingDagen=len(TrainingDagen)\n",
    "QualityOneven=[]\n",
    "QualityEven=[]\n",
    "for i in range(7):\n",
    "    if TrainingDagen[0]==Dagen_vd_week[i]:\n",
    "        QualityOneven.append(TrainingDagen[0])\n",
    "        QualityEven.append(TrainingDagen[0])\n",
    "for k in range(1,n_TrainingDagen):\n",
    "    for i in range(7):\n",
    "        if TrainingDagen[k]==Dagen_vd_week[i] and QualityOneven[len(QualityOneven)-1]!=Dagen_vd_week[i-1]: \n",
    "            if TrainingDagen[0]!='Ma' or TrainingDagen[k]!='Zo':\n",
    "                QualityOneven.append(TrainingDagen[k])\n",
    "                QualityEven.append(TrainingDagen[k])\n",
    "if (Afstand.value=='Halve marathon' or Afstand.value=='Marathon') and len(QualityOneven)==4:\n",
    "    TrainingTypeOneven=['T','I','T','L']\n",
    "    TrainingTypeEven=['T','I','T','L']\n",
    "    QualityLaatste=QualityEven[0:2]\n",
    "    TrainingTypeLaatste=TrainingTypeEven[0:2]\n",
    "if (Afstand.value=='Halve marathon' or Afstand.value=='Marathon')  and len(QualityOneven)==3:\n",
    "    TrainingTypeOneven=['T','I','L']\n",
    "    TrainingTypeEven=['T','I','L']\n",
    "    QualityLaatste=QualityEven[0:2]\n",
    "    TrainingTypeLaatste=TrainingTypeEven[0:2]\n",
    "if Afstand.value=='10km' and len(QualityOneven)==3:\n",
    "    TrainingTypeOneven=['T','I','R']\n",
    "    TrainingTypeEven=['T','I','L']\n",
    "    QualityLaatste=QualityEven[0:2]\n",
    "    TrainingTypeLaatste=TrainingTypeEven[0:2]\n",
    "if Afstand.value=='10km' and len(QualityOneven)==2:\n",
    "    TrainingTypeOneven=['T','I']\n",
    "    TrainingTypeEven=['T','R']\n",
    "    QualityLaatste=QualityEven[0:2]\n",
    "    TrainingTypeLaatste=TrainingTypeEven[0:2]\n",
    "if Afstand.value=='5km' and len(QualityOneven)==2:\n",
    "    TrainingTypeOneven=['T','R']\n",
    "    TrainingTypeEven=['I','T']\n",
    "    QualityLaatste=QualityEven[0:2]\n",
    "    TrainingTypeLaatste=TrainingTypeEven[0:2]\n",
    "if Afstand.value=='5km' and len(QualityOneven)==3:\n",
    "    TrainingTypeOneven=['T','I','R']\n",
    "    TrainingTypeEven=['T','I','R']\n",
    "    QualityLaatste=QualityEven[0:2]\n",
    "    TrainingTypeLaatste=TrainingTypeEven[0:2]\n",
    "if Afstand.value=='5km' and len(QualityOneven)==4:\n",
    "    TrainingTypeOneven=['T','I','R','T']\n",
    "    TrainingTypeEven=['I','R','T','I']\n",
    "    QualityLaatste=QualityEven[0:2]\n",
    "    TrainingTypeLaatste=TrainingTypeEven[0:2]"
   ]
  },
  {
   "cell_type": "code",
   "execution_count": 8,
   "id": "27492bd3",
   "metadata": {},
   "outputs": [],
   "source": [
    "StartMaandag = Start.value\n",
    "Week=df_groei.Week\n",
    "m=0\n",
    "HuidigeKM=float(HuidigeKM_widget.value)\n",
    "for w in Week:\n",
    "    num=int(w)\n",
    "    if num==n_weken:\n",
    "        TrainingType=TrainingTypeLaatste\n",
    "        Quality=QualityLaatste\n",
    "    elif num % 2 != 0:\n",
    "        TrainingType=TrainingTypeOneven\n",
    "        Quality=QualityOneven\n",
    "    else:\n",
    "        TrainingType=TrainingTypeEven\n",
    "        Quality=QualityEven\n",
    "    Groei_float=float(df_groei[df_groei.Week==Week[m]].Groei.values[0])\n",
    "    HuidigeKM=HuidigeKM*Groei_float\n",
    "    df['MaxKM']=HuidigeKM*df.MaxPerc\n",
    "    AantalKM_L=int(round(df[df['TrainingType']=='L'].MaxKM))*TrainingType.count('L')\n",
    "    AantalKM_per_TrainingDay=(HuidigeKM-AantalKM_L)/(n_TrainingDagen-TrainingType.count('L'))\n",
    "    df['MaxKM']=df['MaxKM'].round(1)\n",
    "    TotaalKM=0\n",
    "    n=0\n",
    "    KM=0\n",
    "    for i in Quality:\n",
    "        TrainingTypeHuidig=TrainingType[n]\n",
    "        TrainingTypeHuidig=TrainingTypeHuidig[0]\n",
    "        MaxKMHuidig=df[df['TrainingType']==TrainingType[n]].MaxKM\n",
    "        if num==n_weken:\n",
    "            MaxKMHuidig=MaxKMHuidig/2.0\n",
    "        if TrainingTypeHuidig=='L':\n",
    "            AantalInt=int(round(MaxKMHuidig))\n",
    "            Aantal=str(AantalInt)\n",
    "            Text =  Aantal +TrainingTypeHuidig\n",
    "            KM=KM+AantalInt\n",
    "        elif TrainingTypeHuidig=='T':\n",
    "            AantalWarmUp=2\n",
    "            AantalInt=int(round(MaxKMHuidig/1.6))\n",
    "            Aantal=str(AantalInt)\n",
    "            AantalKM=4+AantalInt*1.6\n",
    "            if AantalKM < AantalKM_per_TrainingDay:\n",
    "                Aantal_E=int(round(AantalKM_per_TrainingDay-AantalKM))\n",
    "                AantalKM=4+AantalInt*1.6+Aantal_E\n",
    "                AantalWarmUp=2+Aantal_E\n",
    "            else:\n",
    "                AantalKM=4+AantalInt*1.6\n",
    "            Text = str(AantalWarmUp)+\"E + \"+ Aantal +\"x1,6 T 1min rust\"+\" + 2E (\"+str(int(round(AantalKM)))+\"KM)\"\n",
    "            KM=KM+AantalKM\n",
    "        elif TrainingTypeHuidig=='R': \n",
    "            AantalWarmUp=2\n",
    "            AantalInt=int(round(MaxKMHuidig/0.4))\n",
    "            Aantal=str(AantalInt)\n",
    "            AantalKM=4+AantalInt*0.4\n",
    "            if AantalKM < AantalKM_per_TrainingDay:\n",
    "                Aantal_E=int(round(AantalKM_per_TrainingDay-AantalKM))\n",
    "                AantalKM=4+AantalInt*0.4+Aantal_E\n",
    "                AantalWarmUp=2+Aantal_E\n",
    "            else:\n",
    "                AantalKM=4+AantalInt*0.4\n",
    "            Text = str(AantalWarmUp)+\"E + \"+ Aantal +\"x400m R 400m rust\"+\" + 2E (\"+str(int(round(AantalKM)))+\"KM)\"\n",
    "            KM=KM+AantalKM\n",
    "        else:\n",
    "            AantalInt=int(round(MaxKMHuidig/1.0))\n",
    "            Aantal=str(AantalInt)\n",
    "            AantalKM=4+AantalInt\n",
    "            if AantalKM < AantalKM_per_TrainingDay:\n",
    "                Aantal_E=int(round(AantalKM_per_TrainingDay-AantalKM))\n",
    "                AantalKM=4+AantalInt+Aantal_E\n",
    "                AantalWarmUp=2+Aantal_E\n",
    "            else:\n",
    "                AantalKM=4+AantalInt\n",
    "            Text = str(AantalWarmUp)+\"E + \"+ Aantal +\"x1 I 3min rust\"+ \" + 2E (\"+str(int(round(AantalKM)))+\"KM)\"\n",
    "            KM=KM+AantalKM\n",
    "        df2.at[m,Quality[n]]=Text\n",
    "        n=n+1\n",
    "    TotaalKM=TotaalKM+KM\n",
    "    Toewijzen=HuidigeKM-KM\n",
    "    E_dagen=set(TrainingDagen)-set(Quality)\n",
    "    E_dagen=list(E_dagen)\n",
    "    Aantal_E_dagen=len(E_dagen)\n",
    "    KM_E=0\n",
    "    if Aantal_E_dagen>0:\n",
    "        Toewijzen=Toewijzen/Aantal_E_dagen\n",
    "        Toewijzen=int(Toewijzen)\n",
    "        l=0\n",
    "        for i in E_dagen:\n",
    "            KM_E=KM_E+Toewijzen\n",
    "            Text = str(Toewijzen)+\"E\"\n",
    "            df2.at[m,E_dagen[l]]=Text\n",
    "            l=l+1\n",
    "    TotaalKM=TotaalKM+KM_E\n",
    "    df2.at[m,'TotaalKM']=round(TotaalKM)\n",
    "    df2.at[m,'Datum']=StartMaandag.strftime('%Y-%m-%d')\n",
    "    StartMaandag=StartMaandag+datetime.timedelta(days=7)\n",
    "    m=m+1\n",
    "if Wedstrijd_date.weekday()+1==7:\n",
    "    df2.at[n_weken-1,'Za']=df2.at[n_weken-1,'Za']+' + 4x100m sprint'\n",
    "    df2.at[n_weken-1,'Zo']='Wedstrijd'"
   ]
  },
  {
   "cell_type": "code",
   "execution_count": 9,
   "id": "411ec2c0",
   "metadata": {},
   "outputs": [],
   "source": [
    "s1=df2.style.set_properties(**{'background-color': 'blue',\n",
    "                               'border': '1.3px black',\n",
    "                          'color': 'black',\n",
    "                           'text-align': 'center'})\n",
    "s2 = s1.set_table_styles([\n",
    "                            {\n",
    "                                \"selector\":\"thead\",\n",
    "                                \"props\": [(\"background-color\", \"dodgerblue\"), (\"color\", \"white\"),\n",
    "                                          (\"border\", \"1px white\"),\n",
    "                                          (\"font-size\", \"2rem\"), (\"font-style\", \"italic\")\n",
    "                                         ]\n",
    "                            },\n",
    "                            {\n",
    "                                \"selector\":\"th.row_heading\",\n",
    "                                \"props\": [(\"background-color\", \"blue\"), (\"color\", \"bold black\"),\n",
    "                                          (\"border\", \"1px white\"),\n",
    "                                          (\"font-size\", \"2rem\"), (\"font-style\", \"italic\")\n",
    "                                         ]\n",
    "                            },\n",
    "                            {\n",
    "                                \"selector\":\"th.column_heading\",\n",
    "                                \"props\": [('text-align', 'center')\n",
    "                                         ]\n",
    "                            },\n",
    "                        ])"
   ]
  },
  {
   "cell_type": "code",
   "execution_count": 10,
   "id": "aee795d3",
   "metadata": {},
   "outputs": [
    {
     "data": {
      "text/html": [
       "<style type=\"text/css\">\n",
       "</style>\n",
       "<table id=\"T_64021_\">\n",
       "  <thead>\n",
       "    <tr>\n",
       "      <th class=\"col_heading level0 col0\" >Datum</th>\n",
       "      <th class=\"col_heading level0 col1\" >Week</th>\n",
       "      <th class=\"col_heading level0 col2\" >Ma</th>\n",
       "      <th class=\"col_heading level0 col3\" >Di</th>\n",
       "      <th class=\"col_heading level0 col4\" >Wo</th>\n",
       "      <th class=\"col_heading level0 col5\" >Do</th>\n",
       "      <th class=\"col_heading level0 col6\" >Vr</th>\n",
       "      <th class=\"col_heading level0 col7\" >Za</th>\n",
       "      <th class=\"col_heading level0 col8\" >Zo</th>\n",
       "      <th class=\"col_heading level0 col9\" >TotaalKM</th>\n",
       "    </tr>\n",
       "  </thead>\n",
       "  <tbody>\n",
       "    <tr>\n",
       "      <td id=\"T_64021_row0_col0\" class=\"data row0 col0\" >2022-05-30</td>\n",
       "      <td id=\"T_64021_row0_col1\" class=\"data row0 col1\" >1</td>\n",
       "      <td id=\"T_64021_row0_col2\" class=\"data row0 col2\" >4E + 3x1,6 T 1min rust + 2E (11KM)</td>\n",
       "      <td id=\"T_64021_row0_col3\" class=\"data row0 col3\" >Rust</td>\n",
       "      <td id=\"T_64021_row0_col4\" class=\"data row0 col4\" >5E + 4x1 I 3min rust + 2E (11KM)</td>\n",
       "      <td id=\"T_64021_row0_col5\" class=\"data row0 col5\" >Rust</td>\n",
       "      <td id=\"T_64021_row0_col6\" class=\"data row0 col6\" >6E + 7x400m R 400m rust + 2E (11KM)</td>\n",
       "      <td id=\"T_64021_row0_col7\" class=\"data row0 col7\" >10E</td>\n",
       "      <td id=\"T_64021_row0_col8\" class=\"data row0 col8\" >10E</td>\n",
       "      <td id=\"T_64021_row0_col9\" class=\"data row0 col9\" >53</td>\n",
       "    </tr>\n",
       "    <tr>\n",
       "      <td id=\"T_64021_row1_col0\" class=\"data row1 col0\" >2022-06-06</td>\n",
       "      <td id=\"T_64021_row1_col1\" class=\"data row1 col1\" >2</td>\n",
       "      <td id=\"T_64021_row1_col2\" class=\"data row1 col2\" >2E + 1x1,6 T 1min rust + 2E (6KM)</td>\n",
       "      <td id=\"T_64021_row1_col3\" class=\"data row1 col3\" >Rust</td>\n",
       "      <td id=\"T_64021_row1_col4\" class=\"data row1 col4\" >2E + 1x1 I 3min rust + 2E (5KM)</td>\n",
       "      <td id=\"T_64021_row1_col5\" class=\"data row1 col5\" >Rust</td>\n",
       "      <td id=\"T_64021_row1_col6\" class=\"data row1 col6\" >5E</td>\n",
       "      <td id=\"T_64021_row1_col7\" class=\"data row1 col7\" >5E + 4x100m sprint</td>\n",
       "      <td id=\"T_64021_row1_col8\" class=\"data row1 col8\" >Wedstrijd</td>\n",
       "      <td id=\"T_64021_row1_col9\" class=\"data row1 col9\" >26</td>\n",
       "    </tr>\n",
       "  </tbody>\n",
       "</table>\n"
      ],
      "text/plain": [
       "<pandas.io.formats.style.Styler at 0x1976dcbc310>"
      ]
     },
     "metadata": {},
     "output_type": "display_data"
    }
   ],
   "source": [
    "if Layout.value=='Grijs':\n",
    "    display(df2.style.hide_index())\n",
    "if Layout.value=='Blauw':\n",
    "    display(s2.hide_index())"
   ]
  },
  {
   "cell_type": "code",
   "execution_count": null,
   "id": "9b788851",
   "metadata": {},
   "outputs": [],
   "source": []
  }
 ],
 "metadata": {
  "kernelspec": {
   "display_name": "Python 3 (ipykernel)",
   "language": "python",
   "name": "python3"
  },
  "language_info": {
   "codemirror_mode": {
    "name": "ipython",
    "version": 3
   },
   "file_extension": ".py",
   "mimetype": "text/x-python",
   "name": "python",
   "nbconvert_exporter": "python",
   "pygments_lexer": "ipython3",
   "version": "3.9.7"
  }
 },
 "nbformat": 4,
 "nbformat_minor": 5
}
