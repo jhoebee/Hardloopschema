{
 "cells": [
  {
   "cell_type": "markdown",
   "id": "7b8d47fb",
   "metadata": {
    "cell_style": "split"
   },
   "source": [
    "<span style='font-family:Helvetica; color:Black ;height:400vh; font-size:2rem;font-weight: bold'> Hardloop</span><span style='font-family:Helvetica; color:Orange ; font-size:2rem;font-weight: bold'>schema </span>\n",
    "&nbsp;\n",
    "&nbsp;"
   ]
  },
  {
   "cell_type": "code",
   "execution_count": 97,
   "id": "7a8ffeef",
   "metadata": {},
   "outputs": [
    {
     "name": "stdout",
     "output_type": "stream",
     "text": [
      "\n"
     ]
    }
   ],
   "source": [
    "try:\n",
    "    if eerste_keer:\n",
    "        print(\"\")\n",
    "except:\n",
    "    show_cell=0\n",
    "    \n",
    "eerste_keer=True"
   ]
  },
  {
   "cell_type": "code",
   "execution_count": 98,
   "id": "ef6de275",
   "metadata": {
    "cell_style": "center"
   },
   "outputs": [],
   "source": [
    "import pandas as pd\n",
    "import datetime as datetime\n",
    "import ipywidgets as widgets\n",
    "from ipywidgets import Button, Layout,interact,interactive, Box, VBox   \n",
    "from IPython.display import HTML\n",
    "from IPython.display import Image\n",
    "from IPython.display import Javascript, display,Markdown\n",
    "from ipywidgets import widgets"
   ]
  },
  {
   "cell_type": "code",
   "execution_count": 99,
   "id": "b7d69cb7",
   "metadata": {},
   "outputs": [
    {
     "data": {
      "application/vnd.jupyter.widget-view+json": {
       "model_id": "468928722dfd4bcaa810ef0341c24c06",
       "version_major": 2,
       "version_minor": 0
      },
      "text/plain": [
       "IntProgress(value=4, bar_style='info', layout=Layout(height='15px', width='350px'), max=7, style=ProgressStyle…"
      ]
     },
     "metadata": {},
     "output_type": "display_data"
    }
   ],
   "source": [
    "layout = Layout()\n",
    "layout.width = '350px'\n",
    "layout.height = '15px'\n",
    "if show_cell>=1:\n",
    "    t=widgets.IntProgress(\n",
    "        value=show_cell,\n",
    "        min=0,\n",
    "        max=7,\n",
    "        description='',\n",
    "        bar_style='info', # 'success', 'info', 'warning', 'danger' or ''\n",
    "        style={'bar_color': 'orange'},\n",
    "        orientation='horizontal'\n",
    "    )\n",
    "    t.layout=layout\n",
    "    display(t)"
   ]
  },
  {
   "cell_type": "code",
   "execution_count": 100,
   "id": "03e4024a",
   "metadata": {},
   "outputs": [],
   "source": [
    "#Bepalen list of values voor de PR tijden\n",
    "df_running = pd.read_csv (r'https://raw.githubusercontent.com/jhoebee/Hardloopschema/main/VDOT_running_times.csv')\n",
    "options_10K=list(df_running['10K'])\n",
    "options_5K=list(df_running['5K'])\n",
    "options_HM=list(df_running['Halve marathon'])\n",
    "for i in range(len(options_10K)):\n",
    "    options_10K[i]=options_10K[i][0:8]  \n",
    "    options_5K[i]=options_5K[i][0:8] \n",
    "    options_HM[i]=options_HM[i][0:8] \n",
    "df_running['10K']=options_10K\n",
    "df_running['5K']=options_5K\n",
    "df_running['Halve marathon']=options_HM\n",
    "#Ophalen snelheden per VDOT\n",
    "df_speed = pd.read_csv (r'https://raw.githubusercontent.com/jhoebee/Hardloopschema/main/VDOT_speed.csv')\n",
    "#Bepalen opties voor start en einddatum schema\n",
    "from datetime import date\n",
    "Options=[]\n",
    "Vandaag = date.today()\n",
    "import datetime as datetime\n",
    "Maandag = Vandaag + datetime.timedelta(days=-Vandaag.weekday(), weeks=1)\n",
    "Wedstrijd = Vandaag + datetime.timedelta(days=-Vandaag.weekday()+6, weeks=12)\n",
    "for i in [1,2,3,4,5]:\n",
    "    Optie=str(Maandag.strftime(\"%d / %m / %Y\"))\n",
    "    Options.append((Optie,Maandag))\n",
    "    Maandag=Maandag+datetime.timedelta(days=7)"
   ]
  },
  {
   "cell_type": "code",
   "execution_count": 101,
   "id": "4a7f744a",
   "metadata": {},
   "outputs": [],
   "source": [
    "#Functies voor de buttons\n",
    "def run_home(ev):\n",
    "    global show_cell\n",
    "    show_cell=0\n",
    "    display(Javascript('IPython.notebook.execute_cell_range(1, IPython.notebook.ncells())'))\n",
    "    \n",
    "def run_next(ev):\n",
    "    global show_cell\n",
    "    show_cell=show_cell+1\n",
    "    display(Javascript('IPython.notebook.execute_cell_range(1, IPython.notebook.ncells())'))\n",
    "\n",
    "def run_before(ev):\n",
    "    global show_cell\n",
    "    show_cell=show_cell-1\n",
    "    display(Javascript('IPython.notebook.execute_cell_range(1, IPython.notebook.ncells())'))"
   ]
  },
  {
   "cell_type": "code",
   "execution_count": 102,
   "id": "375c8b7c",
   "metadata": {
    "cell_style": "center"
   },
   "outputs": [],
   "source": [
    "if show_cell==0:\n",
    "    display(Image(url='https://raw.githubusercontent.com/jhoebee/Hardloopschema/main/Hardloopschema_symbool.png?'\n",
    "                  , width=200, height=200))\n",
    "    display(Markdown(\n",
    "        '''# Hardloopschema        \n",
    "Maak hier zelf je eigen hardloopschema\n",
    "        '''\n",
    "    ))\n",
    "button = widgets.Button(description=\"Start\")                \n",
    "button.style.button_color = 'orange'\n",
    "button.on_click(run_next)\n",
    "if show_cell==0:\n",
    "    display(button)"
   ]
  },
  {
   "cell_type": "code",
   "execution_count": 103,
   "id": "7ec75f66",
   "metadata": {
    "cell_style": "center"
   },
   "outputs": [],
   "source": [
    "if show_cell==1:\n",
    "    display(Image(url='https://raw.githubusercontent.com/jhoebee/Hardloopschema/main/Afstand_symbool.png?'\n",
    "                 , width=200, height=200))\n",
    "    display(Markdown(\n",
    "        '''# Afstand        \n",
    "Welke afstand ga je lopen?\n",
    "        '''\n",
    "    ))\n",
    "    options=['5km','10km','Halve marathon']\n",
    "    Afstand=widgets.RadioButtons(\n",
    "        options=options,\n",
    "        value='10km',\n",
    "        layout=Layout(width='250px', height='60px'),\n",
    "        description='Afstand:',\n",
    "        description_tooltip='Afstand die je gaat lopen.',\n",
    "        disabled=False\n",
    "    )"
   ]
  },
  {
   "cell_type": "code",
   "execution_count": 104,
   "id": "c3ec7a0b",
   "metadata": {
    "cell_style": "center"
   },
   "outputs": [],
   "source": [
    "button_vorige = widgets.Button(description='Terug', style=dict(\n",
    "    font_style='italic',\n",
    "    font_variant=\"small-caps\"\n",
    "))\n",
    "button_vorige.on_click(run_before)\n",
    "button_volgende = widgets.Button(description='Verder', style=dict(\n",
    "    font_style='italic',\n",
    "    font_weight='bold',\n",
    "    font_variant=\"small-caps\"\n",
    "))             \n",
    "button_volgende.style.button_color = 'orange'\n",
    "button_volgende.on_click(run_next)\n",
    "out=widgets.Output()\n",
    "buttons=widgets.VBox([button_volgende,button_vorige])\n",
    "if show_cell==1:\n",
    "    display(Afstand)\n",
    "    display(widgets.HBox([buttons,out]))"
   ]
  },
  {
   "cell_type": "code",
   "execution_count": 105,
   "id": "f75aca7b",
   "metadata": {
    "cell_style": "center"
   },
   "outputs": [],
   "source": [
    "if show_cell==2:\n",
    "    display(Image(url='https://raw.githubusercontent.com/jhoebee/Hardloopschema/main/Startdatum_symbool.png?'\n",
    "                  , width=200, height=200))\n",
    "    display(Markdown(\n",
    "        '''# Begin- en einddatum        \n",
    "Wanneer wil je beginnen en is de wedstrijd?\n",
    "        '''\n",
    "    ))\n",
    "    Start=widgets.Dropdown(\n",
    "        options=Options,\n",
    "        description='Start',\n",
    "        description_tooltip='Maandag waarop het hardloopschema begint.',\n",
    "        layout=Layout(width='250px', height='30px'),\n",
    "        disabled=False\n",
    "    )\n",
    "    from datetime import datetime\n",
    "    Wedstrijd=widgets.DatePicker(\n",
    "        description='Wedstrijd:',\n",
    "        description_tooltip='Datum waarom de wedstrijd gaat plaatsvinden.',\n",
    "        layout=Start.layout,\n",
    "        value=Wedstrijd,\n",
    "        disabled=False\n",
    "    ) \n",
    "    Wedstrijd_date=Wedstrijd.value"
   ]
  },
  {
   "cell_type": "code",
   "execution_count": 106,
   "id": "f872737b",
   "metadata": {
    "cell_style": "center"
   },
   "outputs": [],
   "source": [
    "button_vorige = widgets.Button(description='Terug', style=dict(\n",
    "    font_style='italic',\n",
    "    font_variant=\"small-caps\"\n",
    "))\n",
    "button_vorige.on_click(run_before)\n",
    "button_volgende = widgets.Button(description='Verder', style=dict(\n",
    "    font_style='italic',\n",
    "    font_weight='bold',\n",
    "    font_variant=\"small-caps\"\n",
    "))             \n",
    "button_volgende.style.button_color = 'orange'\n",
    "button_volgende.on_click(run_next)\n",
    "out=widgets.Output()\n",
    "buttons=widgets.VBox([button_volgende,button_vorige])\n",
    "if show_cell==2:\n",
    "    display(Start)\n",
    "    display(Wedstrijd)\n",
    "    display(widgets.HBox([buttons,out]))"
   ]
  },
  {
   "cell_type": "code",
   "execution_count": 107,
   "id": "79b9f987",
   "metadata": {
    "cell_style": "center"
   },
   "outputs": [],
   "source": [
    "if show_cell==3:\n",
    "    display(Image(url='https://raw.githubusercontent.com/jhoebee/Hardloopschema/main/Weekdagen_symbool.png?'\n",
    "                  , width=200, height=200))\n",
    "    display(Markdown(\n",
    "        '''# Trainingsdagen        \n",
    "Op welke dagen van de week wil je trainen?\n",
    "        '''\n",
    "    ))\n",
    "    options=['Ma', 'Di', 'Wo','Do','Vr','Za','Zo']\n",
    "    TrainingDagenWidget=widgets.SelectMultiple(\n",
    "        options=options,\n",
    "        value=['Ma', 'Wo','Vr','Za','Zo'],\n",
    "        description='Training:',\n",
    "        description_tooltip='Op welke dagen kun/wil je trainen. Voor het schema worden alleen deze dagen gebruikt.',\n",
    "        rows=len(options),\n",
    "        #layout=Layout(width=\"auto\"),\n",
    "        disabled=False\n",
    "    ) "
   ]
  },
  {
   "cell_type": "code",
   "execution_count": 108,
   "id": "b41b259c",
   "metadata": {},
   "outputs": [
    {
     "data": {
      "application/javascript": [
       "IPython.notebook.execute_cell_range(1, IPython.notebook.ncells())"
      ],
      "text/plain": [
       "<IPython.core.display.Javascript object>"
      ]
     },
     "metadata": {},
     "output_type": "display_data"
    }
   ],
   "source": [
    "button_vorige = widgets.Button(description='Terug', style=dict(\n",
    "    font_style='italic',\n",
    "    font_variant=\"small-caps\"\n",
    "))\n",
    "button_vorige.on_click(run_before)\n",
    "button_volgende = widgets.Button(description='Verder', style=dict(\n",
    "    font_style='italic',\n",
    "    font_weight='bold',\n",
    "    font_variant=\"small-caps\"\n",
    "))             \n",
    "button_volgende.style.button_color = 'orange'\n",
    "button_volgende.on_click(run_next)\n",
    "out=widgets.Output()\n",
    "buttons=widgets.VBox([button_volgende,button_vorige])\n",
    "if show_cell==3:\n",
    "    display(TrainingDagenWidget)\n",
    "    display(widgets.HBox([buttons,out]))"
   ]
  },
  {
   "cell_type": "code",
   "execution_count": 109,
   "id": "5d1d19f7",
   "metadata": {
    "cell_style": "center"
   },
   "outputs": [
    {
     "data": {
      "text/html": [
       "<img src=\"https://raw.githubusercontent.com/jhoebee/Hardloopschema/main/Tempo_symbool.png?\" width=\"200\" height=\"200\"/>"
      ],
      "text/plain": [
       "<IPython.core.display.Image object>"
      ]
     },
     "metadata": {},
     "output_type": "display_data"
    },
    {
     "data": {
      "text/markdown": [
       "# Tempo       \n",
       "Hoe snel kan je nu deze afstand lopen? Hiermee wordt het tempo voor de trainingen bepaald.\n",
       "        "
      ],
      "text/plain": [
       "<IPython.core.display.Markdown object>"
      ]
     },
     "metadata": {},
     "output_type": "display_data"
    }
   ],
   "source": [
    "if show_cell==4:\n",
    "    display(Image(url='https://raw.githubusercontent.com/jhoebee/Hardloopschema/main/Tempo_symbool.png?'\n",
    "                  , width=200, height=200))\n",
    "    display(Markdown(\n",
    "        '''# Tempo       \n",
    "Hoe snel kan je nu deze afstand lopen? Hiermee wordt het tempo voor de trainingen bepaald.\n",
    "        '''\n",
    "    ))\n",
    "    PR5K=widgets.Dropdown(\n",
    "        options=options_5K,\n",
    "        description='5km:',\n",
    "        description_tooltip='Hoe snel kan je de 5km lopen?. Voor bepaling tempo wordt deze tijd gebruikt.',\n",
    "        layout=Layout(width='250px', height='30px'),\n",
    "        disabled=False\n",
    "    )\n",
    "    PR10K=widgets.Dropdown(\n",
    "        options=options_10K,\n",
    "        description='10km:',\n",
    "        description_tooltip='Hoe snel kan je de 10km lopen?. Voor bepaling tempo wordt deze tijd gebruikt.',\n",
    "        layout=Layout(width='250px', height='30px'),\n",
    "        disabled=False\n",
    "    )\n",
    "    PRHM=widgets.Dropdown(\n",
    "        options=options_HM,\n",
    "        layout=Layout(width='250px', height='30px'),\n",
    "        description='Halve marathon:',\n",
    "        description_tooltip='Hoe snel kan je de halve marathon lopen?. Voor bepaling tempo wordt deze tijd gebruikt.',\n",
    "        disabled=False\n",
    "    )"
   ]
  },
  {
   "cell_type": "code",
   "execution_count": 133,
   "id": "4ddb98bc",
   "metadata": {},
   "outputs": [
    {
     "data": {
      "application/vnd.jupyter.widget-view+json": {
       "model_id": "d35e8ad2d1b64d1b9f9f621a1bb036ac",
       "version_major": 2,
       "version_minor": 0
      },
      "text/plain": [
       "Dropdown(description='10km:', description_tooltip='Hoe snel kan je de 10km lopen?. Voor bepaling tempo wordt d…"
      ]
     },
     "metadata": {},
     "output_type": "display_data"
    },
    {
     "data": {
      "application/vnd.jupyter.widget-view+json": {
       "model_id": "30fc4d5956a046e786b351774fe4d276",
       "version_major": 2,
       "version_minor": 0
      },
      "text/plain": [
       "HBox(children=(VBox(children=(Button(description='Verder', style=ButtonStyle(button_color='orange', font_weigh…"
      ]
     },
     "metadata": {},
     "output_type": "display_data"
    }
   ],
   "source": [
    "button_vorige = widgets.Button(description='Terug', style=dict(\n",
    "    font_style='italic',\n",
    "    font_variant=\"small-caps\"\n",
    "))\n",
    "button_vorige.on_click(run_before)\n",
    "button_volgende = widgets.Button(description='Verder', style=dict(\n",
    "    font_style='italic',\n",
    "    font_weight='bold',\n",
    "    font_variant=\"small-caps\"\n",
    "))             \n",
    "button_volgende.style.button_color = 'orange'\n",
    "button_volgende.on_click(run_next)\n",
    "out=widgets.Output()\n",
    "buttons=widgets.VBox([button_volgende,button_vorige])\n",
    "if show_cell==4:\n",
    "    if Afstand.value=='5km':\n",
    "        display(PR5K)\n",
    "    if Afstand.value=='10km':\n",
    "        display(PR10K)\n",
    "    if Afstand.value=='Halve marathon':\n",
    "        display(PRHM)  \n",
    "    display(widgets.HBox([buttons,out]))"
   ]
  },
  {
   "cell_type": "code",
   "execution_count": 137,
   "id": "a8b18c68",
   "metadata": {},
   "outputs": [
    {
     "name": "stdout",
     "output_type": "stream",
     "text": [
      "46\n"
     ]
    }
   ],
   "source": [
    "if show_cell>=4:\n",
    "    VDOT_5K=int(df_running[df_running['5K']==PR5K.value].VDOT)\n",
    "    VDOT_10K=int(df_running[df_running['10K']==PR10K.value].VDOT)\n",
    "    VDOT_HM=int(df_running[df_running['Halve marathon']==PRHM.value].VDOT)\n",
    "    VDOT=max(VDOT_5K,VDOT_10K,VDOT_HM) "
   ]
  },
  {
   "cell_type": "code",
   "execution_count": 112,
   "id": "ed797670",
   "metadata": {
    "cell_style": "center"
   },
   "outputs": [],
   "source": [
    "if show_cell==5:\n",
    "    display(Image(url='https://raw.githubusercontent.com/jhoebee/Hardloopschema/main/Hartslag_symbool.png?'\n",
    "                  , width=200, height=200))\n",
    "    display(Markdown(\n",
    "        '''# Hartslag        \n",
    "Wat is jouw maximale hartslag? Dit wordt gebruikt voor het bepalen van de hartslagzones\n",
    "        '''\n",
    "    ))\n",
    "    MaxHF_widget=widgets.IntSlider(\n",
    "        value=180,\n",
    "        min=160,\n",
    "        max=210,\n",
    "        step=1,\n",
    "        description='Max HF:',\n",
    "        description_tooltip='Maximale hartslag wordt gebruikt voor het bepalen van de hartslagen voor de verschillende trainingstypes.',\n",
    "        disabled=False,\n",
    "        continuous_update=False,\n",
    "        orientation='horizontal',\n",
    "        readout=True,\n",
    "        readout_format='d'\n",
    "    )  "
   ]
  },
  {
   "cell_type": "code",
   "execution_count": 113,
   "id": "7b85f805",
   "metadata": {},
   "outputs": [],
   "source": [
    "button_vorige = widgets.Button(description='Terug', style=dict(\n",
    "    font_style='italic',\n",
    "    font_variant=\"small-caps\"\n",
    "))\n",
    "button_vorige.on_click(run_before)\n",
    "button_volgende = widgets.Button(description='Verder', style=dict(\n",
    "    font_style='italic',\n",
    "    font_weight='bold',\n",
    "    font_variant=\"small-caps\"\n",
    "))             \n",
    "button_volgende.style.button_color = 'orange'\n",
    "button_volgende.on_click(run_next)\n",
    "out=widgets.Output()\n",
    "buttons=widgets.VBox([button_volgende,button_vorige])\n",
    "if show_cell==5:\n",
    "    display(MaxHF_widget) \n",
    "    display(widgets.HBox([buttons,out]))"
   ]
  },
  {
   "cell_type": "code",
   "execution_count": 114,
   "id": "78700fbf",
   "metadata": {
    "cell_style": "center"
   },
   "outputs": [],
   "source": [
    "if show_cell==6:\n",
    "    display(Image(url='https://raw.githubusercontent.com/jhoebee/Hardloopschema/main/Kilometrage_symbool.png?'\n",
    "                  , width=200, height=200))\n",
    "    display(Markdown(\n",
    "        '''# Aantal kilometers per week        \n",
    "Hoeveel kilometers loop je vaak per week?\n",
    "        '''\n",
    "    ))\n",
    "    HuidigeKM_widget=widgets.IntSlider(\n",
    "        value=45,\n",
    "        min=20,\n",
    "        max=100,\n",
    "        step=1,\n",
    "        description='Huidige KM:',\n",
    "        description_tooltip='Hoeveel kilometer loop je per week?',\n",
    "        disabled=False,\n",
    "        continuous_update=False,\n",
    "        orientation='horizontal',\n",
    "        readout=True,\n",
    "        readout_format='d'\n",
    "    )\n",
    "    if HuidigeKM_widget.value<30.0:\n",
    "        groei=7\n",
    "    elif HuidigeKM_widget.value<40.0:\n",
    "        groei=5\n",
    "    elif HuidigeKM_widget.value<50.0:\n",
    "        groei=3\n",
    "    elif HuidigeKM_widget.value<60.0:\n",
    "        groei=2"
   ]
  },
  {
   "cell_type": "code",
   "execution_count": 115,
   "id": "607ded96",
   "metadata": {},
   "outputs": [],
   "source": [
    "button_vorige = widgets.Button(description='Terug', style=dict(\n",
    "    font_style='italic',\n",
    "    font_variant=\"small-caps\"\n",
    "))\n",
    "button_vorige.on_click(run_before)\n",
    "button_volgende = widgets.Button(description='Verder', style=dict(\n",
    "    font_style='italic',\n",
    "    font_weight='bold',\n",
    "    font_variant=\"small-caps\"\n",
    "))             \n",
    "button_volgende.style.button_color = 'orange'\n",
    "button_volgende.on_click(run_next)\n",
    "out=widgets.Output()\n",
    "buttons=widgets.VBox([button_volgende,button_vorige])\n",
    "if show_cell==6:\n",
    "    display(HuidigeKM_widget)\n",
    "    display(widgets.HBox([buttons,out]))"
   ]
  },
  {
   "cell_type": "code",
   "execution_count": 116,
   "id": "f1052c5b",
   "metadata": {},
   "outputs": [],
   "source": [
    "button_vorige = widgets.Button(description='Terug', style=dict(\n",
    "    font_style='italic',\n",
    "    font_variant=\"small-caps\"\n",
    "))\n",
    "button_vorige.on_click(run_before)\n",
    "button_volgende = widgets.Button(description='Nieuw schema', style=dict(\n",
    "    font_style='italic',\n",
    "    font_weight='bold',\n",
    "    font_variant=\"small-caps\"\n",
    "))             \n",
    "button_volgende.style.button_color = 'orange'\n",
    "button_volgende.on_click(run_home)\n",
    "out=widgets.Output()\n",
    "buttons=widgets.VBox([button_volgende,button_vorige])\n",
    "if show_cell==7:\n",
    "    display(widgets.HBox([buttons,out]))"
   ]
  },
  {
   "cell_type": "code",
   "execution_count": 117,
   "id": "7c7e8562",
   "metadata": {},
   "outputs": [],
   "source": [
    "if show_cell==7:\n",
    "    data={'TrainingType':['L','E','T','S','I','R']\n",
    "              ,'Omschrijving':['Lange duurloop','Easy running','Tempoloop','Extensieve interval','Intensieve interval','Repetitions']\n",
    "             ,'Tempo':['','','','','','']\n",
    "             ,'Hartslag':['','','','','','n.v.t.']\n",
    "             ,'MaxPerc':['0.25','1.0','0.10','0.10','0.08','0.05']}\n",
    "    df=pd.DataFrame(data=data)\n",
    "    df.MaxPerc=df.MaxPerc.astype(float)\n",
    "    #tempo\n",
    "    df.at[0,'Tempo']=list(df_speed[df_speed['VDOT']==VDOT].L)[0]\n",
    "    df.at[1,'Tempo']=list(df_speed[df_speed['VDOT']==VDOT].E)[0]\n",
    "    df.at[2,'Tempo']=list(df_speed[df_speed['VDOT']==VDOT]['T'])[0][4:8]\n",
    "    df.at[3,'Tempo']=list(df_speed[df_speed['VDOT']==VDOT]['T'])[0][4:8]\n",
    "    df.at[4,'Tempo']=list(df_speed[df_speed['VDOT']==VDOT]['I'])[0][4:8]\n",
    "    df.at[5,'Tempo']=list(df_speed[df_speed['VDOT']==VDOT]['R'])[0][4:8]\n",
    "    #hartslag\n",
    "    df.at[0,'Hartslag']=str(int(0.65*int(MaxHF_widget.value)))+'-'+str(int(0.79*int(MaxHF_widget.value)))\n",
    "    df.at[1,'Hartslag']=str(int(0.65*int(MaxHF_widget.value)))+'-'+str(int(0.79*int(MaxHF_widget.value)))\n",
    "    df.at[2,'Hartslag']=str(int(0.88*int(MaxHF_widget.value)))+'-'+str(int(0.92*int(MaxHF_widget.value)))\n",
    "    df.at[3,'Hartslag']=str(int(0.80*int(MaxHF_widget.value)))+'-'+str(int(0.85*int(MaxHF_widget.value)))\n",
    "    df.at[4,'Hartslag']=str(int(0.88*int(MaxHF_widget.value)))+'-'+str(int(0.92*int(MaxHF_widget.value)))\n",
    "    df3=df.style.hide_index()      \n",
    "    display(df3)"
   ]
  },
  {
   "cell_type": "code",
   "execution_count": 118,
   "id": "badd5b41",
   "metadata": {},
   "outputs": [],
   "source": [
    "if show_cell==7:\n",
    "    #import datetime as datetime\n",
    "    n_dagen=Wedstrijd_date-Start.value\n",
    "    n_weken=int(round(n_dagen.days/7.0,0))\n",
    "    n=n_weken\n",
    "    Datum=['']*n\n",
    "    Week=[]\n",
    "    Rust=['Rust']*n\n",
    "    TotaalKM=['0']*n\n",
    "    for i in range(1, n+1):\n",
    "        Week.append(str(i).zfill(1))\n",
    "\n",
    "    Groei_float=groei/100.0\n",
    "    Groei_list=[]\n",
    "    j=0\n",
    "    for i in Week:\n",
    "        if j==3:\n",
    "            Groei_list.append(1-Groei_float)\n",
    "            j=0\n",
    "        else:\n",
    "            Groei_list.append(1+Groei_float)\n",
    "            j=j+1\n",
    "\n",
    "    data={\n",
    "        'Week':Week\n",
    "        ,'Groei':Groei_list\n",
    "    }\n",
    "    df_groei=pd.DataFrame(data=data)\n",
    "    df_groei.at[n-1,'Groei']=0.5   \n",
    "\n",
    "\n",
    "    data2={\n",
    "        'Datum':Datum\n",
    "        ,'Week':Week\n",
    "        ,'Ma':Rust\n",
    "          ,'Di':Rust\n",
    "         ,'Wo':Rust\n",
    "     ,'Do':Rust\n",
    "     ,'Vr':Rust\n",
    "     ,'Za':Rust\n",
    "     ,'Zo':Rust\n",
    "       ,'TotaalKM':TotaalKM}\n",
    "    df2=pd.DataFrame(data=data2)"
   ]
  },
  {
   "cell_type": "code",
   "execution_count": 119,
   "id": "f4737020",
   "metadata": {},
   "outputs": [],
   "source": [
    "if show_cell==7:\n",
    "    Dagen_vd_week=['Ma', 'Di', 'Wo','Do','Vr','Za','Zo']\n",
    "    TrainingDagen=TrainingDagenWidget.value\n",
    "    n_TrainingDagen=len(TrainingDagen)\n",
    "    QualityOneven=[]\n",
    "    QualityEven=[]\n",
    "    for i in range(7):\n",
    "        if TrainingDagen[0]==Dagen_vd_week[i]:\n",
    "            QualityOneven.append(TrainingDagen[0])\n",
    "            QualityEven.append(TrainingDagen[0])\n",
    "    for k in range(1,n_TrainingDagen):\n",
    "        for i in range(7):\n",
    "            if TrainingDagen[k]==Dagen_vd_week[i] and QualityOneven[len(QualityOneven)-1]!=Dagen_vd_week[i-1]: \n",
    "                if TrainingDagen[0]!='Ma' or TrainingDagen[k]!='Zo':\n",
    "                    QualityOneven.append(TrainingDagen[k])\n",
    "                    QualityEven.append(TrainingDagen[k])\n",
    "    if (Afstand.value=='Halve marathon' or Afstand.value=='Marathon') and len(QualityOneven)==4:\n",
    "        TrainingTypeOneven=['T','I','T','L']\n",
    "        TrainingTypeEven=['T','I','T','L']\n",
    "        QualityLaatste=QualityEven[0:2]\n",
    "        TrainingTypeLaatste=TrainingTypeEven[0:2]\n",
    "    if (Afstand.value=='Halve marathon' or Afstand.value=='Marathon')  and len(QualityOneven)==3:\n",
    "        TrainingTypeOneven=['T','I','L']\n",
    "        TrainingTypeEven=['T','I','L']\n",
    "        QualityLaatste=QualityEven[0:2]\n",
    "        TrainingTypeLaatste=TrainingTypeEven[0:2]\n",
    "    if Afstand.value=='10km' and len(QualityOneven)==3:\n",
    "        TrainingTypeOneven=['T','S','R']\n",
    "        TrainingTypeEven=['T','I','L']\n",
    "        QualityLaatste=QualityEven[0:2]\n",
    "        TrainingTypeLaatste=TrainingTypeEven[0:2]\n",
    "    if Afstand.value=='10km' and len(QualityOneven)==2:\n",
    "        TrainingTypeOneven=['T','I']\n",
    "        TrainingTypeEven=['T','R']\n",
    "        QualityLaatste=QualityEven[0:2]\n",
    "        TrainingTypeLaatste=TrainingTypeEven[0:2]\n",
    "    if Afstand.value=='5km' and len(QualityOneven)==2:\n",
    "        TrainingTypeOneven=['T','R']\n",
    "        TrainingTypeEven=['I','T']\n",
    "        QualityLaatste=QualityEven[0:2]\n",
    "        TrainingTypeLaatste=TrainingTypeEven[0:2]\n",
    "    if Afstand.value=='5km' and len(QualityOneven)==3:\n",
    "        TrainingTypeOneven=['T','I','R']\n",
    "        TrainingTypeEven=['T','I','R']\n",
    "        QualityLaatste=QualityEven[0:2]\n",
    "        TrainingTypeLaatste=TrainingTypeEven[0:2]\n",
    "    if Afstand.value=='5km' and len(QualityOneven)==4:\n",
    "        TrainingTypeOneven=['T','I','R','T']\n",
    "        TrainingTypeEven=['I','R','T','I']\n",
    "        QualityLaatste=QualityEven[0:2]\n",
    "        TrainingTypeLaatste=TrainingTypeEven[0:2]"
   ]
  },
  {
   "cell_type": "code",
   "execution_count": 120,
   "id": "27492bd3",
   "metadata": {},
   "outputs": [],
   "source": [
    "if show_cell==7:\n",
    "    StartMaandag = Start.value\n",
    "    Week=df_groei.Week\n",
    "    m=0\n",
    "    HuidigeKM=float(HuidigeKM_widget.value)\n",
    "    for w in Week:\n",
    "        num=int(w)\n",
    "        if num==n_weken:\n",
    "            TrainingType=TrainingTypeLaatste\n",
    "            Quality=QualityLaatste\n",
    "        elif num % 2 != 0:\n",
    "            TrainingType=TrainingTypeOneven\n",
    "            Quality=QualityOneven\n",
    "        else:\n",
    "            TrainingType=TrainingTypeEven\n",
    "            Quality=QualityEven\n",
    "        Groei_float=float(df_groei[df_groei.Week==Week[m]].Groei.values[0])\n",
    "        HuidigeKM=HuidigeKM*Groei_float\n",
    "        df['MaxKM']=HuidigeKM*df.MaxPerc\n",
    "        AantalKM_L=int(round(df[df['TrainingType']=='L'].MaxKM))*TrainingType.count('L')\n",
    "        AantalKM_per_TrainingDay=(HuidigeKM-AantalKM_L)/(n_TrainingDagen-TrainingType.count('L'))\n",
    "        df['MaxKM']=df['MaxKM'].round(1)\n",
    "        TotaalKM=0\n",
    "        n=0\n",
    "        KM=0\n",
    "        for i in Quality:\n",
    "            TrainingTypeHuidig=TrainingType[n]\n",
    "            TrainingTypeHuidig=TrainingTypeHuidig[0]\n",
    "            MaxKMHuidig=df[df['TrainingType']==TrainingType[n]].MaxKM\n",
    "            if num==n_weken:\n",
    "                MaxKMHuidig=MaxKMHuidig/2.0\n",
    "            if TrainingTypeHuidig=='L':\n",
    "                AantalInt=int(round(MaxKMHuidig))\n",
    "                Aantal=str(AantalInt)\n",
    "                Text =  Aantal +TrainingTypeHuidig\n",
    "                KM=KM+AantalInt\n",
    "            elif TrainingTypeHuidig=='T':\n",
    "                AantalWarmUp=2\n",
    "                AantalInt=int(round(MaxKMHuidig/1.6))\n",
    "                Aantal=str(AantalInt)\n",
    "                AantalKM=4+AantalInt*1.6+AantalInt*0.2\n",
    "                if AantalKM < AantalKM_per_TrainingDay:\n",
    "                    Aantal_E=int(round(AantalKM_per_TrainingDay-AantalKM))\n",
    "                    AantalKM=4+AantalInt*1.6+AantalInt*0.2+Aantal_E\n",
    "                    AantalWarmUp=2+Aantal_E\n",
    "                Text = str(AantalWarmUp)+\"km E + \"+ Aantal +\"x1,6km T 1min jg\"+\" + 2km E (\"+str(int(round(AantalKM)))+\"KM)\"\n",
    "                KM=KM+AantalKM\n",
    "            elif TrainingTypeHuidig=='R': \n",
    "                AantalWarmUp=2\n",
    "                AantalInt=int(round(MaxKMHuidig/0.4))\n",
    "                Aantal=str(AantalInt)\n",
    "                AantalKM=4+AantalInt*0.4\n",
    "                if AantalKM < AantalKM_per_TrainingDay:\n",
    "                    Aantal_E=int(round(AantalKM_per_TrainingDay-AantalKM))\n",
    "                    AantalKM=4+AantalInt*0.4+Aantal_E\n",
    "                    AantalWarmUp=2+Aantal_E\n",
    "                Text = str(AantalWarmUp)+\"km E + \"+ Aantal +\"x400m R 400m jg\"+\" + 2km E (\"+str(int(round(AantalKM)))+\"KM)\"\n",
    "                KM=KM+AantalKM\n",
    "            elif TrainingTypeHuidig=='S': \n",
    "                AantalWarmUp=1\n",
    "                AantalInt=int(round(MaxKMHuidig/1.0))\n",
    "                Aantal=str(AantalInt)\n",
    "                AantalKM=2+AantalInt*1.8\n",
    "                if AantalKM < AantalKM_per_TrainingDay  :\n",
    "                    Aantal_E=int(round(AantalKM_per_TrainingDay-AantalKM))\n",
    "                    AantalKM=2+AantalInt*1.8+Aantal_E\n",
    "                    AantalWarmUp=1+Aantal_E\n",
    "                Text = str(AantalWarmUp)+\"km E + \"+ Aantal +\"x1km S 800m E\"+\" + 1km E (\"+str(int(round(AantalKM)))+\"KM)\"\n",
    "                KM=KM+AantalKM\n",
    "            else:\n",
    "                AantalInt=int(round(MaxKMHuidig/1.0))\n",
    "                Aantal=str(AantalInt)\n",
    "                AantalKM=4+AantalInt\n",
    "                if AantalKM < AantalKM_per_TrainingDay:\n",
    "                    Aantal_E=int(round(AantalKM_per_TrainingDay-AantalKM))\n",
    "                    AantalKM=4+AantalInt+Aantal_E\n",
    "                    AantalWarmUp=2+Aantal_E\n",
    "                Text = str(AantalWarmUp)+\"km E + \"+ Aantal +\"x1km I 3min rust\"+ \" + 2km E (\"+str(int(round(AantalKM)))+\"KM)\"\n",
    "                KM=KM+AantalKM\n",
    "            df2.at[m,Quality[n]]=Text\n",
    "            n=n+1\n",
    "        TotaalKM=TotaalKM+KM\n",
    "        Toewijzen=HuidigeKM-KM\n",
    "        E_dagen=set(TrainingDagen)-set(Quality)\n",
    "        E_dagen=list(E_dagen)\n",
    "        Aantal_E_dagen=len(E_dagen)\n",
    "        KM_E=0\n",
    "        if Aantal_E_dagen>0:\n",
    "            Toewijzen=Toewijzen/Aantal_E_dagen\n",
    "            Toewijzen=int(Toewijzen)\n",
    "            l=0\n",
    "            for i in E_dagen:\n",
    "                KM_E=KM_E+Toewijzen\n",
    "                Text = str(Toewijzen)+\"E\"\n",
    "                df2.at[m,E_dagen[l]]=Text\n",
    "                l=l+1\n",
    "        TotaalKM=TotaalKM+KM_E\n",
    "        df2.at[m,'TotaalKM']=round(TotaalKM)\n",
    "        df2.at[m,'Datum']=StartMaandag.strftime('%Y-%m-%d')\n",
    "        StartMaandag=StartMaandag+datetime.timedelta(days=7)\n",
    "        m=m+1\n",
    "    if Wedstrijd_date.weekday()+1==7:\n",
    "        df2.at[n_weken-1,'Za']=df2.at[n_weken-1,'Za']+' + 4x100m sprint'\n",
    "        df2.at[n_weken-1,'Zo']='Wedstrijd'\n",
    "    if show_cell==7:\n",
    "        display(df2.style.hide_index())"
   ]
  }
 ],
 "metadata": {
  "kernelspec": {
   "display_name": "Python 3 (ipykernel)",
   "language": "python",
   "name": "python3"
  },
  "language_info": {
   "codemirror_mode": {
    "name": "ipython",
    "version": 3
   },
   "file_extension": ".py",
   "mimetype": "text/x-python",
   "name": "python",
   "nbconvert_exporter": "python",
   "pygments_lexer": "ipython3",
   "version": "3.9.7"
  }
 },
 "nbformat": 4,
 "nbformat_minor": 5
}
